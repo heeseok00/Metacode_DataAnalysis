{
 "cells": [
  {
   "cell_type": "markdown",
   "id": "4ce8901b",
   "metadata": {},
   "source": [
    "## Magic Command"
   ]
  },
  {
   "cell_type": "markdown",
   "id": "fae0fe92",
   "metadata": {},
   "source": [
    "1. %, %%\n",
    "2. pwd / ls / whos / reset / time / timeit / writefile"
   ]
  },
  {
   "cell_type": "markdown",
   "id": "1511eef9",
   "metadata": {
    "ExecuteTime": {
     "end_time": "2021-08-26T06:00:34.137335Z",
     "start_time": "2021-08-26T06:00:34.126804Z"
    }
   },
   "source": [
    "% : 한 줄의 magic command 동작\n",
    "\n",
    "%% : 셀 단위로 magic command 동작"
   ]
  },
  {
   "cell_type": "code",
   "execution_count": null,
   "id": "ce12a470",
   "metadata": {
    "ExecuteTime": {
     "end_time": "2021-08-31T09:55:32.999780Z",
     "start_time": "2021-08-31T09:55:32.987302Z"
    }
   },
   "outputs": [],
   "source": [
    "%pwd"
   ]
  },
  {
   "cell_type": "code",
   "execution_count": null,
   "id": "7f72c785",
   "metadata": {
    "ExecuteTime": {
     "end_time": "2021-08-31T09:55:33.090598Z",
     "start_time": "2021-08-31T09:55:33.004324Z"
    }
   },
   "outputs": [],
   "source": [
    "%ls"
   ]
  },
  {
   "cell_type": "code",
   "execution_count": null,
   "id": "e0c295d2",
   "metadata": {
    "ExecuteTime": {
     "end_time": "2021-08-31T09:55:33.105558Z",
     "start_time": "2021-08-31T09:55:33.092593Z"
    }
   },
   "outputs": [],
   "source": [
    "%whos"
   ]
  },
  {
   "cell_type": "code",
   "execution_count": null,
   "id": "71502947",
   "metadata": {
    "ExecuteTime": {
     "end_time": "2021-08-31T09:56:10.308883Z",
     "start_time": "2021-08-31T09:55:33.106557Z"
    }
   },
   "outputs": [],
   "source": [
    "%reset"
   ]
  },
  {
   "cell_type": "code",
   "execution_count": null,
   "id": "61d74bfc",
   "metadata": {
    "ExecuteTime": {
     "end_time": "2021-08-31T09:56:12.898512Z",
     "start_time": "2021-08-31T09:56:10.310798Z"
    }
   },
   "outputs": [],
   "source": [
    "%%timeit\n",
    "\n",
    "for _ in range(100):\n",
    "    a = 1"
   ]
  },
  {
   "cell_type": "code",
   "execution_count": null,
   "id": "782284f2",
   "metadata": {
    "ExecuteTime": {
     "end_time": "2021-08-31T09:56:12.913951Z",
     "start_time": "2021-08-31T09:56:12.902463Z"
    }
   },
   "outputs": [],
   "source": [
    "%%writefile test.py\n",
    "\n",
    "def func(a,b):\n",
    "    return a+b\n",
    "\n",
    "def func2(a,b):\n",
    "    return a*b"
   ]
  },
  {
   "cell_type": "code",
   "execution_count": null,
   "id": "187002f4",
   "metadata": {
    "ExecuteTime": {
     "end_time": "2021-08-31T09:56:12.974119Z",
     "start_time": "2021-08-31T09:56:12.918054Z"
    }
   },
   "outputs": [],
   "source": [
    "import test as tt"
   ]
  },
  {
   "cell_type": "code",
   "execution_count": null,
   "id": "bd7da08e",
   "metadata": {
    "ExecuteTime": {
     "end_time": "2021-08-31T09:56:12.989013Z",
     "start_time": "2021-08-31T09:56:12.976047Z"
    }
   },
   "outputs": [],
   "source": [
    "tt.func2(10, 20)"
   ]
  },
  {
   "cell_type": "markdown",
   "id": "40d68c0a",
   "metadata": {},
   "source": [
    "## 함수"
   ]
  },
  {
   "cell_type": "markdown",
   "id": "8e2e9f59",
   "metadata": {},
   "source": [
    "1. Def\n",
    "2. Docstring\n",
    "3. lambda function\n",
    "    - if-else 삼항표현식\n",
    "4. map, filter, reduce"
   ]
  },
  {
   "cell_type": "code",
   "execution_count": null,
   "id": "1b5c0a2b",
   "metadata": {
    "ExecuteTime": {
     "end_time": "2021-08-31T09:56:13.003972Z",
     "start_time": "2021-08-31T09:56:12.992008Z"
    }
   },
   "outputs": [],
   "source": [
    "def func(a, b):\n",
    "    return a+b"
   ]
  },
  {
   "cell_type": "markdown",
   "id": "c51bd9f2",
   "metadata": {},
   "source": [
    "### docstring"
   ]
  },
  {
   "cell_type": "markdown",
   "id": "c94c1ff4",
   "metadata": {},
   "source": [
    "- shift + tab / ? or ?? / help"
   ]
  },
  {
   "cell_type": "code",
   "execution_count": null,
   "id": "660a7a7c",
   "metadata": {
    "ExecuteTime": {
     "end_time": "2021-08-31T09:56:13.018935Z",
     "start_time": "2021-08-31T09:56:13.005969Z"
    }
   },
   "outputs": [],
   "source": [
    "myfunction??"
   ]
  },
  {
   "cell_type": "code",
   "execution_count": null,
   "id": "56b117b6",
   "metadata": {
    "ExecuteTime": {
     "end_time": "2021-08-31T09:56:13.033892Z",
     "start_time": "2021-08-31T09:56:13.020927Z"
    }
   },
   "outputs": [],
   "source": [
    "def myfunction(a, b):\n",
    "    \"\"\"  docstring1 \n",
    "        docstring2\n",
    "        docstrign3\n",
    "    \"\"\"\n",
    "    return a+b"
   ]
  },
  {
   "cell_type": "markdown",
   "id": "0bb76bbc",
   "metadata": {},
   "source": [
    "### Lambda function"
   ]
  },
  {
   "cell_type": "code",
   "execution_count": null,
   "id": "872597aa",
   "metadata": {
    "ExecuteTime": {
     "end_time": "2021-08-31T09:56:13.048918Z",
     "start_time": "2021-08-31T09:56:13.036886Z"
    }
   },
   "outputs": [],
   "source": [
    "func = lambda x, y : x+y\n",
    "func(3,5)"
   ]
  },
  {
   "cell_type": "code",
   "execution_count": null,
   "id": "f9441752",
   "metadata": {
    "ExecuteTime": {
     "end_time": "2021-08-31T09:56:13.063811Z",
     "start_time": "2021-08-31T09:56:13.051863Z"
    }
   },
   "outputs": [],
   "source": [
    "def out_func(in_func, num1, num2):\n",
    "    return in_func(num1, num2)"
   ]
  },
  {
   "cell_type": "code",
   "execution_count": null,
   "id": "d2f295ae",
   "metadata": {
    "ExecuteTime": {
     "end_time": "2021-08-31T09:56:13.078772Z",
     "start_time": "2021-08-31T09:56:13.065808Z"
    }
   },
   "outputs": [],
   "source": [
    "def plus(a,b):\n",
    "    return a+b\n",
    "\n",
    "out_func(plus, 3, 5)\n",
    "\n",
    "out_func(lambda x,y:x+y, 5, 10)"
   ]
  },
  {
   "cell_type": "markdown",
   "id": "639738a5",
   "metadata": {},
   "source": [
    "#### if-else 삼항연산"
   ]
  },
  {
   "cell_type": "code",
   "execution_count": null,
   "id": "464c1cb1",
   "metadata": {
    "ExecuteTime": {
     "end_time": "2021-08-31T09:56:13.093732Z",
     "start_time": "2021-08-31T09:56:13.082762Z"
    }
   },
   "outputs": [],
   "source": [
    "num = 101\n",
    "x = '홀수' if num % 2 else '짝수'\n",
    "x"
   ]
  },
  {
   "cell_type": "code",
   "execution_count": null,
   "id": "53703033",
   "metadata": {
    "ExecuteTime": {
     "end_time": "2021-08-31T09:56:13.108722Z",
     "start_time": "2021-08-31T09:56:13.097722Z"
    }
   },
   "outputs": [],
   "source": [
    "def out_func(in_func, num):\n",
    "    return in_func(num)\n",
    "\n",
    "out_func(lambda num: '홀수' if num % 2 else '짝수',  5)"
   ]
  },
  {
   "cell_type": "markdown",
   "id": "7bfff59f",
   "metadata": {},
   "source": [
    "### map"
   ]
  },
  {
   "cell_type": "markdown",
   "id": "4acd5421",
   "metadata": {},
   "source": [
    "- map(func, *iterable)\n",
    "- func(iterable[0]), func(iterable[1]) .... func(iterable[-1])\n",
    "- zip(iterable)\n",
    "\n",
    "ls1 = [1, 2, 3]\n",
    "ls2 = [4, 5, 6]\n",
    "\n",
    "zip(ls1, ls2)\n",
    "\n",
    " : [(1,4), (2,5), (3,6)]"
   ]
  },
  {
   "cell_type": "code",
   "execution_count": null,
   "id": "11790e69",
   "metadata": {
    "ExecuteTime": {
     "end_time": "2021-08-31T09:56:13.123655Z",
     "start_time": "2021-08-31T09:56:13.110688Z"
    }
   },
   "outputs": [],
   "source": [
    "ls1 = [10, 20, 30]\n",
    "ls2 = [1, 2, 3]\n",
    "\n",
    "list(map(lambda *args: args[0] + args[1], ls1, ls2))"
   ]
  },
  {
   "cell_type": "code",
   "execution_count": null,
   "id": "e1dcb36d",
   "metadata": {
    "ExecuteTime": {
     "end_time": "2021-08-31T09:56:13.138611Z",
     "start_time": "2021-08-31T09:56:13.127642Z"
    }
   },
   "outputs": [],
   "source": [
    "list(map(lambda num: '홀수' if num % 2 else \"짝수\", ls2))"
   ]
  },
  {
   "cell_type": "code",
   "execution_count": null,
   "id": "f2df7586",
   "metadata": {
    "ExecuteTime": {
     "end_time": "2021-08-31T09:56:13.153637Z",
     "start_time": "2021-08-31T09:56:13.141606Z"
    }
   },
   "outputs": [],
   "source": [
    "func = lambda num : '홀수' if num % 2 else '짝수'\n",
    "[func(ls2[i]) for i in range(len(ls2))]"
   ]
  },
  {
   "cell_type": "markdown",
   "id": "812182c4",
   "metadata": {},
   "source": [
    "### filter\n",
    "\n",
    "- filter(func, iterable)\n",
    "    - func의 return값이 반드시 boolean형태 (True / False)"
   ]
  },
  {
   "cell_type": "code",
   "execution_count": null,
   "id": "af72ba88",
   "metadata": {
    "ExecuteTime": {
     "end_time": "2021-08-31T09:56:13.168532Z",
     "start_time": "2021-08-31T09:56:13.155746Z"
    }
   },
   "outputs": [],
   "source": [
    "def judge(num):\n",
    "    return True if num % 2 else False"
   ]
  },
  {
   "cell_type": "code",
   "execution_count": null,
   "id": "c43c7c60",
   "metadata": {
    "ExecuteTime": {
     "end_time": "2021-08-31T09:56:13.183493Z",
     "start_time": "2021-08-31T09:56:13.173519Z"
    }
   },
   "outputs": [],
   "source": [
    "iterable = [1, 2, 3, 4, 5]\n",
    "list(filter(judge, iterable))"
   ]
  },
  {
   "cell_type": "markdown",
   "id": "139b6786",
   "metadata": {},
   "source": [
    "### reduce"
   ]
  },
  {
   "cell_type": "code",
   "execution_count": null,
   "id": "cf35a697",
   "metadata": {
    "ExecuteTime": {
     "end_time": "2021-08-31T09:56:13.198474Z",
     "start_time": "2021-08-31T09:56:13.186484Z"
    }
   },
   "outputs": [],
   "source": [
    "from functools import reduce"
   ]
  },
  {
   "cell_type": "code",
   "execution_count": null,
   "id": "949ba39b",
   "metadata": {
    "ExecuteTime": {
     "end_time": "2021-08-31T09:56:13.213427Z",
     "start_time": "2021-08-31T09:56:13.200447Z"
    }
   },
   "outputs": [],
   "source": [
    "ls = [1, 2, 3, 4, 5, 6, 7]\n",
    "reduce(lambda a, b: a*b, ls)"
   ]
  },
  {
   "cell_type": "markdown",
   "id": "8ba68adc",
   "metadata": {},
   "source": [
    "## 클래스"
   ]
  },
  {
   "cell_type": "markdown",
   "id": "213184a6",
   "metadata": {},
   "source": [
    "1. 클래스 선언\n",
    "2. 상속 / 메소드오버라이드 / super함수"
   ]
  },
  {
   "cell_type": "code",
   "execution_count": null,
   "id": "b4bc4566",
   "metadata": {
    "ExecuteTime": {
     "end_time": "2021-08-31T09:56:13.228373Z",
     "start_time": "2021-08-31T09:56:13.215827Z"
    }
   },
   "outputs": [],
   "source": [
    "class FriendlySoldier:\n",
    "    \n",
    "    def __init__(self, hp, ad):\n",
    "        self.hp = hp\n",
    "        self.ad = ad\n",
    "        \n",
    "    def attack(self, enemy):\n",
    "        enemy.hp -= self.ad\n",
    "        \n",
    "class EnemySoldier:\n",
    "    \n",
    "    def __init__(self, hp, ad):\n",
    "        self.hp = hp\n",
    "        self.ad = ad\n",
    "        \n",
    "    def attack(self, enemy):\n",
    "        enemy.hp -= self.ad        "
   ]
  },
  {
   "cell_type": "code",
   "execution_count": null,
   "id": "3cb3956f",
   "metadata": {
    "ExecuteTime": {
     "end_time": "2021-08-31T09:56:13.243345Z",
     "start_time": "2021-08-31T09:56:13.230368Z"
    }
   },
   "outputs": [],
   "source": [
    "A = FriendlySoldier(100, 10)\n",
    "B = EnemySoldier(30, 20)"
   ]
  },
  {
   "cell_type": "code",
   "execution_count": null,
   "id": "29dbd8a5",
   "metadata": {
    "ExecuteTime": {
     "end_time": "2021-08-31T09:56:13.258339Z",
     "start_time": "2021-08-31T09:56:13.246325Z"
    }
   },
   "outputs": [],
   "source": [
    "A.attack(B)"
   ]
  },
  {
   "cell_type": "code",
   "execution_count": null,
   "id": "29b3977b",
   "metadata": {
    "ExecuteTime": {
     "end_time": "2021-08-31T09:56:13.273307Z",
     "start_time": "2021-08-31T09:56:13.259291Z"
    }
   },
   "outputs": [],
   "source": [
    "B.hp"
   ]
  },
  {
   "cell_type": "markdown",
   "id": "39e91b8a",
   "metadata": {},
   "source": [
    "### 상속"
   ]
  },
  {
   "cell_type": "code",
   "execution_count": null,
   "id": "2bae705f",
   "metadata": {
    "ExecuteTime": {
     "end_time": "2021-08-31T09:56:13.288213Z",
     "start_time": "2021-08-31T09:56:13.274249Z"
    }
   },
   "outputs": [],
   "source": [
    "class ComputingTool:\n",
    "    \n",
    "    def __init__(self, num1, num2):\n",
    "        self.num1 = num1\n",
    "        self.num2 = num2\n",
    "        \n",
    "    def add(self):\n",
    "        return self.num1 + self.num2"
   ]
  },
  {
   "cell_type": "code",
   "execution_count": null,
   "id": "8f61f455",
   "metadata": {
    "ExecuteTime": {
     "end_time": "2021-08-31T09:56:13.303220Z",
     "start_time": "2021-08-31T09:56:13.290208Z"
    }
   },
   "outputs": [],
   "source": [
    "tool = ComputingTool(20, 50)\n",
    "tool.add()"
   ]
  },
  {
   "cell_type": "code",
   "execution_count": null,
   "id": "bdf16621",
   "metadata": {
    "ExecuteTime": {
     "end_time": "2021-08-31T09:56:13.318132Z",
     "start_time": "2021-08-31T09:56:13.305168Z"
    }
   },
   "outputs": [],
   "source": [
    "class ComputingTool2(ComputingTool):\n",
    "    \n",
    "    def minus(self):\n",
    "        return self.num1 - self.num2"
   ]
  },
  {
   "cell_type": "code",
   "execution_count": null,
   "id": "fb5bee42",
   "metadata": {
    "ExecuteTime": {
     "end_time": "2021-08-31T09:56:13.333092Z",
     "start_time": "2021-08-31T09:56:13.321150Z"
    }
   },
   "outputs": [],
   "source": [
    "tool2 = ComputingTool2(50, 20)\n",
    "tool2.minus()"
   ]
  },
  {
   "cell_type": "code",
   "execution_count": null,
   "id": "f1dbe120",
   "metadata": {
    "ExecuteTime": {
     "end_time": "2021-08-31T09:56:13.348054Z",
     "start_time": "2021-08-31T09:56:13.335613Z"
    }
   },
   "outputs": [],
   "source": [
    "class ComputingTool3(ComputingTool2):\n",
    "    # 메소드 오버라이딩\n",
    "    def add(self):\n",
    "        return (self.num1 ** 2) + (self.num2 ** 2)"
   ]
  },
  {
   "cell_type": "code",
   "execution_count": null,
   "id": "41e7342f",
   "metadata": {
    "ExecuteTime": {
     "end_time": "2021-08-31T09:56:13.363176Z",
     "start_time": "2021-08-31T09:56:13.351054Z"
    }
   },
   "outputs": [],
   "source": [
    "tool3 = ComputingTool3(5, 6) \n",
    "tool3.add()"
   ]
  },
  {
   "cell_type": "markdown",
   "id": "df76868e",
   "metadata": {},
   "source": [
    "#### super()"
   ]
  },
  {
   "cell_type": "code",
   "execution_count": null,
   "id": "e33a22fa",
   "metadata": {
    "ExecuteTime": {
     "end_time": "2021-08-31T09:56:13.377974Z",
     "start_time": "2021-08-31T09:56:13.365826Z"
    }
   },
   "outputs": [],
   "source": [
    "class Man:\n",
    "    def __init__(self):\n",
    "        self.hp = 100\n",
    "        self.mp = 50\n",
    "        self.ap = 40\n",
    "        \n",
    "    def magical_attack(self, enemy):\n",
    "        enemy.hp -= self.ap\n",
    "        self.mp -= self.ap"
   ]
  },
  {
   "cell_type": "code",
   "execution_count": null,
   "id": "7851fd76",
   "metadata": {
    "ExecuteTime": {
     "end_time": "2021-08-31T09:56:13.392932Z",
     "start_time": "2021-08-31T09:56:13.380368Z"
    }
   },
   "outputs": [],
   "source": [
    "class Man2(Man):\n",
    "    \n",
    "    def __init__(self):\n",
    "        super().__init__()\n",
    "        self.ad = 100"
   ]
  },
  {
   "cell_type": "code",
   "execution_count": null,
   "id": "0ad65270",
   "metadata": {
    "ExecuteTime": {
     "end_time": "2021-08-31T09:56:13.407893Z",
     "start_time": "2021-08-31T09:56:13.394927Z"
    }
   },
   "outputs": [],
   "source": [
    "man = Man()\n",
    "man2 = Man2()"
   ]
  },
  {
   "cell_type": "code",
   "execution_count": null,
   "id": "443fb8a2",
   "metadata": {
    "ExecuteTime": {
     "end_time": "2021-08-31T09:56:13.422917Z",
     "start_time": "2021-08-31T09:56:13.411343Z"
    }
   },
   "outputs": [],
   "source": [
    "man2.magical_attack(man)"
   ]
  },
  {
   "cell_type": "code",
   "execution_count": null,
   "id": "41a93288",
   "metadata": {
    "ExecuteTime": {
     "end_time": "2021-08-31T09:56:13.437816Z",
     "start_time": "2021-08-31T09:56:13.424848Z"
    }
   },
   "outputs": [],
   "source": [
    "man.hp"
   ]
  },
  {
   "cell_type": "markdown",
   "id": "16d6ba5f",
   "metadata": {},
   "source": [
    "## 예외처리"
   ]
  },
  {
   "cell_type": "markdown",
   "id": "26ddf215",
   "metadata": {},
   "source": [
    "1. try\n",
    "2. except"
   ]
  },
  {
   "cell_type": "code",
   "execution_count": null,
   "id": "b6681fcd",
   "metadata": {
    "ExecuteTime": {
     "end_time": "2021-08-31T09:56:13.452870Z",
     "start_time": "2021-08-31T09:56:13.440806Z"
    }
   },
   "outputs": [],
   "source": [
    "try :\n",
    "    print( 1/ 0)\n",
    "except:\n",
    "    print(\"에러 메시지\")"
   ]
  },
  {
   "cell_type": "code",
   "execution_count": null,
   "id": "69a04f2b",
   "metadata": {
    "ExecuteTime": {
     "end_time": "2021-08-31T09:56:13.467733Z",
     "start_time": "2021-08-31T09:56:13.458387Z"
    }
   },
   "outputs": [],
   "source": [
    "for i in range(1, 10):\n",
    "    if i == 5:\n",
    "        try: \n",
    "            print( 1 / 0)\n",
    "        except Exception as error:\n",
    "            print(error)\n",
    "    else:\n",
    "        print( i )"
   ]
  }
 ],
 "metadata": {
  "hide_input": false,
  "kernelspec": {
   "display_name": "Python 3",
   "language": "python",
   "name": "python3"
  },
  "language_info": {
   "codemirror_mode": {
    "name": "ipython",
    "version": 3
   },
   "file_extension": ".py",
   "mimetype": "text/x-python",
   "name": "python",
   "nbconvert_exporter": "python",
   "pygments_lexer": "ipython3",
   "version": "3.8.5"
  },
  "toc": {
   "base_numbering": 1,
   "nav_menu": {},
   "number_sections": true,
   "sideBar": true,
   "skip_h1_title": false,
   "title_cell": "Table of Contents",
   "title_sidebar": "Contents",
   "toc_cell": false,
   "toc_position": {},
   "toc_section_display": true,
   "toc_window_display": false
  },
  "varInspector": {
   "cols": {
    "lenName": 16,
    "lenType": 16,
    "lenVar": 40
   },
   "kernels_config": {
    "python": {
     "delete_cmd_postfix": "",
     "delete_cmd_prefix": "del ",
     "library": "var_list.py",
     "varRefreshCmd": "print(var_dic_list())"
    },
    "r": {
     "delete_cmd_postfix": ") ",
     "delete_cmd_prefix": "rm(",
     "library": "var_list.r",
     "varRefreshCmd": "cat(var_dic_list()) "
    }
   },
   "types_to_exclude": [
    "module",
    "function",
    "builtin_function_or_method",
    "instance",
    "_Feature"
   ],
   "window_display": false
  }
 },
 "nbformat": 4,
 "nbformat_minor": 5
}
