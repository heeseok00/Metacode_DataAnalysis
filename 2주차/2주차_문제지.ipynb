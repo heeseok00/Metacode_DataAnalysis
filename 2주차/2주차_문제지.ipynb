{
 "cells": [
  {
   "cell_type": "markdown",
   "metadata": {
    "id": "LV_-2Umu_t7K"
   },
   "source": [
    "## **2주차 과제**\n",
    "- Colab 환경에서는 마크다운 셀의 보이지 않을 수 있으니, VS Code 등의 로컬환경을 사용하시거나 참고이미지 폴더의 파일들을 참고하시길 바랍니다.\n",
    "- 문제에 대한 전체 풀이는 하나의 ipynb 파일로 제출해주셔야 합니다. 해당 사항을 준수하지 않을 경우, 채점에서 0점으로 처리될 수 있습니다.\n",
    "\n",
    "## **과제 안내**\n",
    "가. 총점: 100점 (문항당 10점 × 10문항)\n",
    "나. 채점 기준:\n",
    "- 부분 점수는 제공되지 않습니다.\n",
    "- 다양한 코드 작성 방식을 존중하며, 문제에서 요구한 조건을 충족하고 출력 결과가 동일한 경우 정답으로 인정됩니다."
   ]
  },
  {
   "cell_type": "markdown",
   "metadata": {
    "id": "ltbKST0x_t7R"
   },
   "source": [
    "---\n",
    "## Q1. 데이터 전처리 - 결측치"
   ]
  },
  {
   "cell_type": "markdown",
   "metadata": {
    "id": "jIUtvJmkzSCq"
   },
   "source": [
    "- 과제 내용\n",
    "    - 결측치 제거 수행 이전과 이후의 결측치 정보 출력\n",
    "\n",
    "- 참고자료\n",
    "    - 3-10 values & NA .ipynb\n",
    "\n",
    "- 별도의 정렬 조건은 없습니다."
   ]
  },
  {
   "cell_type": "code",
   "execution_count": 1,
   "metadata": {
    "colab": {
     "base_uri": "https://localhost:8080/",
     "height": 442
    },
    "executionInfo": {
     "elapsed": 544,
     "status": "ok",
     "timestamp": 1751707911307,
     "user": {
      "displayName": "메타코드",
      "userId": "02571986785866367528"
     },
     "user_tz": -540
    },
    "id": "pxI55xlo_t7R",
    "outputId": "798389e6-4ca6-4501-a723-a38934375ea7"
   },
   "outputs": [
    {
     "name": "stdout",
     "output_type": "stream",
     "text": [
      "========================= eda_order.csv 정보입니다 =========================\n"
     ]
    },
    {
     "data": {
      "text/html": [
       "<div>\n",
       "<style scoped>\n",
       "    .dataframe tbody tr th:only-of-type {\n",
       "        vertical-align: middle;\n",
       "    }\n",
       "\n",
       "    .dataframe tbody tr th {\n",
       "        vertical-align: top;\n",
       "    }\n",
       "\n",
       "    .dataframe thead th {\n",
       "        text-align: right;\n",
       "    }\n",
       "</style>\n",
       "<table border=\"1\" class=\"dataframe\">\n",
       "  <thead>\n",
       "    <tr style=\"text-align: right;\">\n",
       "      <th></th>\n",
       "      <th>order_id</th>\n",
       "      <th>user_id</th>\n",
       "      <th>product_id</th>\n",
       "      <th>order_date</th>\n",
       "      <th>quantity</th>\n",
       "      <th>discount_ratio</th>\n",
       "      <th>pay_date</th>\n",
       "    </tr>\n",
       "  </thead>\n",
       "  <tbody>\n",
       "    <tr>\n",
       "      <th>0</th>\n",
       "      <td>1.0</td>\n",
       "      <td>960.0</td>\n",
       "      <td>17.0</td>\n",
       "      <td>2023-02-07</td>\n",
       "      <td>6.0</td>\n",
       "      <td>0.004746</td>\n",
       "      <td>2023-02-09</td>\n",
       "    </tr>\n",
       "    <tr>\n",
       "      <th>1</th>\n",
       "      <td>6.0</td>\n",
       "      <td>1447.0</td>\n",
       "      <td>6.0</td>\n",
       "      <td>2023-01-12</td>\n",
       "      <td>6.0</td>\n",
       "      <td>0.008240</td>\n",
       "      <td>2023-01-14</td>\n",
       "    </tr>\n",
       "    <tr>\n",
       "      <th>2</th>\n",
       "      <td>14.0</td>\n",
       "      <td>1325.0</td>\n",
       "      <td>17.0</td>\n",
       "      <td>2023-02-15</td>\n",
       "      <td>6.0</td>\n",
       "      <td>0.039391</td>\n",
       "      <td>NaN</td>\n",
       "    </tr>\n",
       "    <tr>\n",
       "      <th>3</th>\n",
       "      <td>17.0</td>\n",
       "      <td>102.0</td>\n",
       "      <td>1.0</td>\n",
       "      <td>2023-02-20</td>\n",
       "      <td>6.0</td>\n",
       "      <td>0.007944</td>\n",
       "      <td>2023-02-26</td>\n",
       "    </tr>\n",
       "    <tr>\n",
       "      <th>4</th>\n",
       "      <td>38.0</td>\n",
       "      <td>94.0</td>\n",
       "      <td>8.0</td>\n",
       "      <td>2023-02-11</td>\n",
       "      <td>6.0</td>\n",
       "      <td>0.014037</td>\n",
       "      <td>2023-02-13</td>\n",
       "    </tr>\n",
       "    <tr>\n",
       "      <th>...</th>\n",
       "      <td>...</td>\n",
       "      <td>...</td>\n",
       "      <td>...</td>\n",
       "      <td>...</td>\n",
       "      <td>...</td>\n",
       "      <td>...</td>\n",
       "      <td>...</td>\n",
       "    </tr>\n",
       "    <tr>\n",
       "      <th>4995</th>\n",
       "      <td>2695.0</td>\n",
       "      <td>99.0</td>\n",
       "      <td>7.0</td>\n",
       "      <td>2023-02-27</td>\n",
       "      <td>46.0</td>\n",
       "      <td>0.313272</td>\n",
       "      <td>NaN</td>\n",
       "    </tr>\n",
       "    <tr>\n",
       "      <th>4996</th>\n",
       "      <td>3166.0</td>\n",
       "      <td>552.0</td>\n",
       "      <td>7.0</td>\n",
       "      <td>2023-02-26</td>\n",
       "      <td>46.0</td>\n",
       "      <td>0.056302</td>\n",
       "      <td>NaN</td>\n",
       "    </tr>\n",
       "    <tr>\n",
       "      <th>4997</th>\n",
       "      <td>3092.0</td>\n",
       "      <td>149.0</td>\n",
       "      <td>7.0</td>\n",
       "      <td>2023-02-20</td>\n",
       "      <td>58.0</td>\n",
       "      <td>0.142290</td>\n",
       "      <td>2023-02-22</td>\n",
       "    </tr>\n",
       "    <tr>\n",
       "      <th>4998</th>\n",
       "      <td>3700.0</td>\n",
       "      <td>620.0</td>\n",
       "      <td>7.0</td>\n",
       "      <td>2023-02-21</td>\n",
       "      <td>36.0</td>\n",
       "      <td>0.119259</td>\n",
       "      <td>2023-02-21</td>\n",
       "    </tr>\n",
       "    <tr>\n",
       "      <th>4999</th>\n",
       "      <td>4808.0</td>\n",
       "      <td>926.0</td>\n",
       "      <td>7.0</td>\n",
       "      <td>2023-02-25</td>\n",
       "      <td>48.0</td>\n",
       "      <td>0.277353</td>\n",
       "      <td>NaN</td>\n",
       "    </tr>\n",
       "  </tbody>\n",
       "</table>\n",
       "<p>5000 rows × 7 columns</p>\n",
       "</div>"
      ],
      "text/plain": [
       "      order_id  user_id  product_id  order_date  quantity  discount_ratio  \\\n",
       "0          1.0    960.0        17.0  2023-02-07       6.0        0.004746   \n",
       "1          6.0   1447.0         6.0  2023-01-12       6.0        0.008240   \n",
       "2         14.0   1325.0        17.0  2023-02-15       6.0        0.039391   \n",
       "3         17.0    102.0         1.0  2023-02-20       6.0        0.007944   \n",
       "4         38.0     94.0         8.0  2023-02-11       6.0        0.014037   \n",
       "...        ...      ...         ...         ...       ...             ...   \n",
       "4995    2695.0     99.0         7.0  2023-02-27      46.0        0.313272   \n",
       "4996    3166.0    552.0         7.0  2023-02-26      46.0        0.056302   \n",
       "4997    3092.0    149.0         7.0  2023-02-20      58.0        0.142290   \n",
       "4998    3700.0    620.0         7.0  2023-02-21      36.0        0.119259   \n",
       "4999    4808.0    926.0         7.0  2023-02-25      48.0        0.277353   \n",
       "\n",
       "        pay_date  \n",
       "0     2023-02-09  \n",
       "1     2023-01-14  \n",
       "2            NaN  \n",
       "3     2023-02-26  \n",
       "4     2023-02-13  \n",
       "...          ...  \n",
       "4995         NaN  \n",
       "4996         NaN  \n",
       "4997  2023-02-22  \n",
       "4998  2023-02-21  \n",
       "4999         NaN  \n",
       "\n",
       "[5000 rows x 7 columns]"
      ]
     },
     "metadata": {},
     "output_type": "display_data"
    }
   ],
   "source": [
    "# 데이터 불러오기 및 확인용 코드 셀입니다. 참고용으로만 활용하셔도 됩니다.\n",
    "\n",
    "import pandas as pd\n",
    "\n",
    "order_df = pd.read_csv('./data_1/eda_order.csv')\n",
    "print('='*25, 'eda_order.csv 정보입니다', '='*25)\n",
    "display(order_df)"
   ]
  },
  {
   "cell_type": "markdown",
   "metadata": {
    "id": "n1vep17izSCr"
   },
   "source": [
    "<img src=\"./참고이미지/Q1/Q1_img1.png\" width=\"50%\">"
   ]
  },
  {
   "cell_type": "code",
   "execution_count": 2,
   "metadata": {
    "id": "FpGp-HzEzSCr"
   },
   "outputs": [
    {
     "name": "stdout",
     "output_type": "stream",
     "text": [
      "========================= 결측치 제거 이전 =========================\n"
     ]
    },
    {
     "data": {
      "text/plain": [
       "' 정보 확인을 위한 코드를 작성해주세요 '"
      ]
     },
     "execution_count": 2,
     "metadata": {},
     "output_type": "execute_result"
    }
   ],
   "source": [
    "print('='*25, '결측치 제거 이전', '='*25)\n",
    "\n",
    "''' 정보 확인을 위한 코드를 작성해주세요 '''"
   ]
  },
  {
   "cell_type": "markdown",
   "metadata": {
    "id": "Zc6NMS4qzSCs"
   },
   "source": [
    "<img src=\"./참고이미지/Q1/Q1_img2.png\" width=\"50%\">"
   ]
  },
  {
   "cell_type": "code",
   "execution_count": 3,
   "metadata": {
    "id": "QpNhMifGzSCs"
   },
   "outputs": [
    {
     "name": "stdout",
     "output_type": "stream",
     "text": [
      "========================= 결측치 제거 이후 =========================\n"
     ]
    }
   ],
   "source": [
    "# 결측치 제거를 수행하고, 데이터프레임 정보를 출력해주세요\n",
    "\n",
    "print('='*25, '결측치 제거 이후', '='*25)"
   ]
  },
  {
   "cell_type": "markdown",
   "metadata": {
    "id": "hUdoi5uwzSCs"
   },
   "source": [
    "<img src=\"./참고이미지/Q1/Q1_img3.png\" width=\"40%\">"
   ]
  },
  {
   "cell_type": "markdown",
   "metadata": {
    "id": "ms-m-Tw7_t7V"
   },
   "source": [
    "---\n",
    "# Q2. 유저별로 첫 방문일자와 최근 방문일자 확인"
   ]
  },
  {
   "cell_type": "markdown",
   "metadata": {
    "id": "PhUhOV-szSCt"
   },
   "source": [
    "- 참고자료\n",
    "    - 3-07 groupby.ipynb\n",
    "\n",
    "- 별도의 정렬 조건은 없습니다."
   ]
  },
  {
   "cell_type": "code",
   "execution_count": 8,
   "metadata": {
    "id": "pSJ6-f2IzSCt"
   },
   "outputs": [
    {
     "data": {
      "text/html": [
       "<div>\n",
       "<style scoped>\n",
       "    .dataframe tbody tr th:only-of-type {\n",
       "        vertical-align: middle;\n",
       "    }\n",
       "\n",
       "    .dataframe tbody tr th {\n",
       "        vertical-align: top;\n",
       "    }\n",
       "\n",
       "    .dataframe thead th {\n",
       "        text-align: right;\n",
       "    }\n",
       "</style>\n",
       "<table border=\"1\" class=\"dataframe\">\n",
       "  <thead>\n",
       "    <tr style=\"text-align: right;\">\n",
       "      <th></th>\n",
       "      <th>user_id</th>\n",
       "      <th>source</th>\n",
       "      <th>campaign</th>\n",
       "      <th>timestamp</th>\n",
       "    </tr>\n",
       "  </thead>\n",
       "  <tbody>\n",
       "    <tr>\n",
       "      <th>0</th>\n",
       "      <td>1017.0</td>\n",
       "      <td>NaN</td>\n",
       "      <td>NaN</td>\n",
       "      <td>2022-12-15 13:06:36.361808000</td>\n",
       "    </tr>\n",
       "    <tr>\n",
       "      <th>1</th>\n",
       "      <td>1017.0</td>\n",
       "      <td>NaN</td>\n",
       "      <td>NaN</td>\n",
       "      <td>2023-02-20 02:46:59.416083200</td>\n",
       "    </tr>\n",
       "    <tr>\n",
       "      <th>2</th>\n",
       "      <td>1017.0</td>\n",
       "      <td>b</td>\n",
       "      <td>campaign_8</td>\n",
       "      <td>2023-02-08 13:10:49.026771200</td>\n",
       "    </tr>\n",
       "    <tr>\n",
       "      <th>3</th>\n",
       "      <td>1398.0</td>\n",
       "      <td>b</td>\n",
       "      <td>campaign_6</td>\n",
       "      <td>2023-01-07 06:37:27.756224000</td>\n",
       "    </tr>\n",
       "    <tr>\n",
       "      <th>4</th>\n",
       "      <td>1398.0</td>\n",
       "      <td>NaN</td>\n",
       "      <td>NaN</td>\n",
       "      <td>2023-01-19 00:49:56.166291200</td>\n",
       "    </tr>\n",
       "    <tr>\n",
       "      <th>...</th>\n",
       "      <td>...</td>\n",
       "      <td>...</td>\n",
       "      <td>...</td>\n",
       "      <td>...</td>\n",
       "    </tr>\n",
       "    <tr>\n",
       "      <th>2214</th>\n",
       "      <td>19.0</td>\n",
       "      <td>NaN</td>\n",
       "      <td>NaN</td>\n",
       "      <td>2022-12-31 02:33:28.486646400</td>\n",
       "    </tr>\n",
       "    <tr>\n",
       "      <th>2215</th>\n",
       "      <td>19.0</td>\n",
       "      <td>NaN</td>\n",
       "      <td>NaN</td>\n",
       "      <td>2023-04-19 06:42:09.471859200</td>\n",
       "    </tr>\n",
       "    <tr>\n",
       "      <th>2216</th>\n",
       "      <td>19.0</td>\n",
       "      <td>NaN</td>\n",
       "      <td>NaN</td>\n",
       "      <td>2023-01-20 02:39:59.212771200</td>\n",
       "    </tr>\n",
       "    <tr>\n",
       "      <th>2217</th>\n",
       "      <td>868.0</td>\n",
       "      <td>NaN</td>\n",
       "      <td>NaN</td>\n",
       "      <td>2023-01-08 04:00:25.681513600</td>\n",
       "    </tr>\n",
       "    <tr>\n",
       "      <th>2218</th>\n",
       "      <td>868.0</td>\n",
       "      <td>b</td>\n",
       "      <td>campaign_9</td>\n",
       "      <td>2023-02-14 18:53:30.268672000</td>\n",
       "    </tr>\n",
       "  </tbody>\n",
       "</table>\n",
       "<p>2219 rows × 4 columns</p>\n",
       "</div>"
      ],
      "text/plain": [
       "      user_id source    campaign                      timestamp\n",
       "0      1017.0    NaN         NaN  2022-12-15 13:06:36.361808000\n",
       "1      1017.0    NaN         NaN  2023-02-20 02:46:59.416083200\n",
       "2      1017.0      b  campaign_8  2023-02-08 13:10:49.026771200\n",
       "3      1398.0      b  campaign_6  2023-01-07 06:37:27.756224000\n",
       "4      1398.0    NaN         NaN  2023-01-19 00:49:56.166291200\n",
       "...       ...    ...         ...                            ...\n",
       "2214     19.0    NaN         NaN  2022-12-31 02:33:28.486646400\n",
       "2215     19.0    NaN         NaN  2023-04-19 06:42:09.471859200\n",
       "2216     19.0    NaN         NaN  2023-01-20 02:39:59.212771200\n",
       "2217    868.0    NaN         NaN  2023-01-08 04:00:25.681513600\n",
       "2218    868.0      b  campaign_9  2023-02-14 18:53:30.268672000\n",
       "\n",
       "[2219 rows x 4 columns]"
      ]
     },
     "metadata": {},
     "output_type": "display_data"
    }
   ],
   "source": [
    "# 데이터 불러오기 및 확인용 코드셀입니다. 참고용으로만 활용하셔도 됩니다.\n",
    "\n",
    "visit_df = pd.read_csv('./data_1/eda_visit.csv') # eda_visit.csv 파일 불러오기\n",
    "display(visit_df)"
   ]
  },
  {
   "cell_type": "markdown",
   "metadata": {
    "id": "lkf9aEryzSCt"
   },
   "source": [
    "<img src=\"./참고이미지/Q2/Q2_img1.png\" width=\"50%\">"
   ]
  },
  {
   "cell_type": "markdown",
   "metadata": {
    "id": "XccBVOxxzSCt"
   },
   "source": [
    "- 집계함수를 활용하여 첫 방문일자와, 마지막 방문일자 확인"
   ]
  },
  {
   "cell_type": "code",
   "execution_count": 9,
   "metadata": {
    "id": "mMIWQBZH_t7W"
   },
   "outputs": [],
   "source": [
    "# 집계를 위한 코드를 작성해주세요"
   ]
  },
  {
   "cell_type": "markdown",
   "metadata": {
    "id": "LUlqYYR_zSCu"
   },
   "source": [
    "<img src=\"./참고이미지/Q2/Q2_img2.png\" width=\"50%\">"
   ]
  },
  {
   "cell_type": "markdown",
   "metadata": {
    "id": "H0X4hu4Z_t7W"
   },
   "source": [
    "---\n",
    "# Q3. 유저별 서비스 이용기간 확인"
   ]
  },
  {
   "cell_type": "markdown",
   "metadata": {
    "id": "FjYrOivOzSCu"
   },
   "source": [
    "- 참고자료\n",
    "    - 2.파이썬 날짜와시간.ipynb\n",
    "    - 5-02_conversion window.ipynb\n",
    "- 데이터 : eda_visit.csv"
   ]
  },
  {
   "cell_type": "markdown",
   "metadata": {},
   "source": [
    "- Q2에서 문제를 해결하지 못하여 데이터프레임을 만들지 못한 경우,  \n",
    "\"참고데이터\" 폴더의 \"result_Q2.csv\" 파일을 활용하시길 바랍니다."
   ]
  },
  {
   "cell_type": "markdown",
   "metadata": {},
   "source": [
    "- 해당 방식을 활용할 경우\n",
    "    - Q2 : 오답\n",
    "    - Q3 : result_Q2.csv을 활용하여 올바르게 풀었을 경우, 정답"
   ]
  },
  {
   "cell_type": "markdown",
   "metadata": {
    "id": "TPhucOUqzSCu"
   },
   "source": [
    "- 1단계 : 데이터 자료형 확인"
   ]
  },
  {
   "cell_type": "code",
   "execution_count": null,
   "metadata": {
    "id": "MjavsIc__t7X"
   },
   "outputs": [],
   "source": [
    "# 자료형 확인을 위한 코드를 작성해주세요"
   ]
  },
  {
   "cell_type": "markdown",
   "metadata": {
    "id": "bGZ1kTl2zSCu"
   },
   "source": [
    "<img src=\"./참고이미지/Q3/Q3_img1.png\" width=\"50%\">"
   ]
  },
  {
   "cell_type": "markdown",
   "metadata": {
    "id": "u6ebeXSjzSCu"
   },
   "source": [
    "- 2단계 : 날짜형으로 자료형 변경  \n",
    "- 위에서 확인한 자료형 중에서 _date가 object로 되어있어 변환이 필요해 보임"
   ]
  },
  {
   "cell_type": "code",
   "execution_count": null,
   "metadata": {
    "id": "KBmWSoAo_t7X"
   },
   "outputs": [],
   "source": [
    "# 자료형 변환을 위한 코드를 작성해주세요"
   ]
  },
  {
   "cell_type": "markdown",
   "metadata": {
    "id": "Fg-RQ91DzSCu"
   },
   "source": [
    "<img src=\"./참고이미지/Q3/Q3_img2.png\" width=\"50%\">"
   ]
  },
  {
   "cell_type": "markdown",
   "metadata": {
    "id": "9c_ijf84zSCu"
   },
   "source": [
    "- 3단계 : 연산을 통해, service_period 컬럼 생성\n",
    "- 처음 사용 일자와 마지막 사용일자를 활용하면, 서비스 이용기간을 구할 수 있습니다.\n",
    "- service_period를 기준으로 내림차순으로 데이터를 정렬합니다."
   ]
  },
  {
   "cell_type": "code",
   "execution_count": null,
   "metadata": {
    "id": "-SJeGyIi_t7X"
   },
   "outputs": [],
   "source": [
    "# service_period 컬럼을 구하기 위한 코드를 작성해주세요"
   ]
  },
  {
   "cell_type": "markdown",
   "metadata": {
    "id": "tH_qsmzhzSCv"
   },
   "source": [
    "<img src=\"./참고이미지/Q3/Q3_img3.png\" width=\"50%\">"
   ]
  },
  {
   "cell_type": "markdown",
   "metadata": {
    "id": "9QacHT0W_t7X"
   },
   "source": [
    "---\n",
    "# Q4. 서비스 이용기간 분포 시각화"
   ]
  },
  {
   "cell_type": "markdown",
   "metadata": {
    "id": "Pj2SZv14zSCv"
   },
   "source": [
    "- 참고자료\n",
    "    - 4-03 histogrem, add_vline_annotation, update_xaxes.ipynb"
   ]
  },
  {
   "cell_type": "code",
   "execution_count": null,
   "metadata": {
    "id": "uDOZBLKlzSCv"
   },
   "outputs": [],
   "source": [
    "# Q3에서 만든 데이터입니다S."
   ]
  },
  {
   "cell_type": "markdown",
   "metadata": {
    "id": "B90HWed-zSCv"
   },
   "source": [
    "<img src=\"./참고이미지/Q4/Q4_img1.png\" width=\"50%\">"
   ]
  },
  {
   "cell_type": "markdown",
   "metadata": {},
   "source": [
    "- 히스토그램 시각화\n",
    "    - 막대는 20개로 설정\n",
    "    - \"service_period\"에 대한 히스토그램 시각화를 진행합니다."
   ]
  },
  {
   "cell_type": "markdown",
   "metadata": {},
   "source": [
    "- 시각화에서 \"색상\", \"x축 이름 및 범위\", \"y축 이름 및 범위\"는 별도의 조건 없습니다."
   ]
  },
  {
   "cell_type": "code",
   "execution_count": null,
   "metadata": {
    "id": "olwb-tSz_t7Y"
   },
   "outputs": [],
   "source": [
    "import plotly.express as px\n",
    "\n",
    "# 히스토그램 시각화를 위한 코드를 작성해주세요"
   ]
  },
  {
   "cell_type": "markdown",
   "metadata": {
    "id": "sZy2kW2PzSCv"
   },
   "source": [
    "<img src=\"./참고이미지/Q4/Q4_result_1.png\" width=\"90%\">"
   ]
  },
  {
   "cell_type": "markdown",
   "metadata": {
    "id": "OOQB-kjr_t7Y"
   },
   "source": [
    "---\n",
    "# Q5. quantity 상위 5개 product 확인"
   ]
  },
  {
   "cell_type": "code",
   "execution_count": null,
   "metadata": {},
   "outputs": [],
   "source": []
  },
  {
   "cell_type": "markdown",
   "metadata": {
    "id": "f_BgMObBzSCv"
   },
   "source": [
    "- 데이터\n",
    "    - eda_order.csv\n",
    "\n",
    "- 참고자료\n",
    "    - 4-04 pie.ipynb"
   ]
  },
  {
   "cell_type": "code",
   "execution_count": null,
   "metadata": {
    "id": "YOj7mU19_t7Y"
   },
   "outputs": [],
   "source": [
    "# 데이터 읽기 및 확인용 코드 셀입니다. 참고용으로만 활용하셔도 됩니다.\n",
    "\n",
    "order_df = pd.read_csv('./data_1/eda_order.csv')\n",
    "print('='*25, 'eda_order.csv 파일입니다', '='*25)\n",
    "display(order_df.head())"
   ]
  },
  {
   "cell_type": "markdown",
   "metadata": {
    "id": "woiVWhgwzSCw"
   },
   "source": [
    "<img src=\"./참고이미지/Q5/Q5_img1.png\" width=\"50%\">"
   ]
  },
  {
   "cell_type": "markdown",
   "metadata": {
    "id": "-J--HwuQzSC2"
   },
   "source": [
    "- product_id를 기준으로 quantity에 대해 sum() 집계를 수행합니다.\n",
    "- 별도의 정렬 조건은 없습니다."
   ]
  },
  {
   "cell_type": "code",
   "execution_count": null,
   "metadata": {
    "id": "ogYHHhQHzSC2"
   },
   "outputs": [],
   "source": [
    "# 해당 출력을 위한 코드를 작성해주세요"
   ]
  },
  {
   "cell_type": "markdown",
   "metadata": {
    "id": "CwDr1IwCzSC2"
   },
   "source": [
    "<img src=\"./참고이미지/Q5/Q5_img2.png\" width=\"50%\">"
   ]
  },
  {
   "cell_type": "code",
   "execution_count": null,
   "metadata": {
    "id": "-OZwLTU2zSC2"
   },
   "outputs": [],
   "source": [
    "# quantity 상위 5개 데이터를 확인해주세요"
   ]
  },
  {
   "cell_type": "markdown",
   "metadata": {
    "id": "KBD3xs-XzSC2"
   },
   "source": [
    "<img src=\"./참고이미지/Q5/Q5_img3.png\" width=\"50%\">"
   ]
  },
  {
   "cell_type": "markdown",
   "metadata": {
    "id": "eMQuXUypzSC2"
   },
   "source": [
    "- 이름은 product_id, 값에는 quantity, 제목은 Quantity top5 product로 설정했습니다.\n",
    "- 색상, 소수점 자릿수에 대한 별도의 조건은 없습니다."
   ]
  },
  {
   "cell_type": "code",
   "execution_count": null,
   "metadata": {
    "id": "_G0fgmJ1zSC2"
   },
   "outputs": [],
   "source": [
    "# 해당 시각화를 위한 코드를 작성해주세요"
   ]
  },
  {
   "cell_type": "markdown",
   "metadata": {
    "id": "Co1NrcpszSC2"
   },
   "source": [
    "<img src=\"./참고이미지/Q5/Q5_result_1.png\" width=\"90%\">"
   ]
  },
  {
   "cell_type": "markdown",
   "metadata": {
    "id": "B8fOIsnM_t7Z"
   },
   "source": [
    "---\n",
    "# Q6. 분류별 발생건수 집계"
   ]
  },
  {
   "cell_type": "markdown",
   "metadata": {
    "id": "yv13UmMAzSC2"
   },
   "source": [
    "- 데이터 읽기 data_2 폴더, 한국도로공사_로드킬 데이터 정보_20231231.csv\n",
    "- 본부명, 지사명, 노선명을 기준으로 발생건수를 차례로 집계 및 상위 5개 출력"
   ]
  },
  {
   "cell_type": "code",
   "execution_count": null,
   "metadata": {
    "id": "7MgveggV_t7Z"
   },
   "outputs": [],
   "source": [
    "# 데이터 읽기 및 확인용 코드 셀입니다. 참고용으로만 활용하셔도 됩니다.\n",
    "\n",
    "import pandas as pd\n",
    "\n",
    "df = pd.read_csv('./data_2/한국도로공사_로드킬 데이터 정보_20231231.csv', encoding='cp949')"
   ]
  },
  {
   "cell_type": "markdown",
   "metadata": {
    "id": "CvDzw06MzSC2"
   },
   "source": [
    "- 셀 출력은 본부명, 지사명, 노선명별로 [발생건수] 집계를 수행하고 내림차순으로 정렬해주세요"
   ]
  },
  {
   "cell_type": "code",
   "execution_count": null,
   "metadata": {
    "id": "mGvxVlDEzSC2"
   },
   "outputs": [],
   "source": [
    "# 집계를 위한 코드를 작성해주세요"
   ]
  },
  {
   "cell_type": "markdown",
   "metadata": {
    "id": "VRoW2_2FzSC2"
   },
   "source": [
    "<img src=\"./참고이미지/Q6/Q6_img1.png\">"
   ]
  },
  {
   "cell_type": "markdown",
   "metadata": {
    "id": "ZD8OZMnU_t7Z"
   },
   "source": [
    "---\n",
    "# Q7. 함수 선언 - 데이터 검색"
   ]
  },
  {
   "cell_type": "code",
   "execution_count": null,
   "metadata": {
    "id": "EEXGnocZ_t7a"
   },
   "outputs": [],
   "source": [
    "# 데이터 확인용 코드셀입니다. 참고용으로만 활용하셔도 괜찮습니다.\n",
    "\n",
    "import pandas as pd\n",
    "\n",
    "df = pd.read_csv('./data_2/한국도로공사_로드킬 데이터 정보_20231231.csv', encoding='cp949')\n",
    "display(df)"
   ]
  },
  {
   "cell_type": "markdown",
   "metadata": {
    "id": "bJ-z5Rl3zSC3"
   },
   "source": [
    "<img src=\"./참고이미지/Q7/Q7_img1.png\" width=\"90%\">"
   ]
  },
  {
   "cell_type": "markdown",
   "metadata": {
    "id": "-k_VP3WyzSC3"
   },
   "source": [
    "- 함수 이름 filter_func\n",
    "    - 지사 정보 검색 결과를 차례대로 출력하는 함수를 선언합니다.\n",
    "    - 데이터 정렬 기준은 발생건수 기준으로 출력합니다.\n",
    "    - 각 결과는 최대 상위 5개 행만 출력합니다."
   ]
  },
  {
   "cell_type": "markdown",
   "metadata": {
    "id": "Qal9R0_yzSC3"
   },
   "source": [
    "- 함수 실행 시에\n",
    "    - data에는 데이터프레임을 입력합니다\n",
    "    - brach_list에는 지사명을 리스트형으로 입력합니다.\n",
    "    - brach_col에는 지사명에 해당하는 \"컬럼명\"을 입력합니다.\n",
    "    - sort_col은 집계의 기준이 되는 \"컬럼명\"을 입력합니다.  "
   ]
  },
  {
   "cell_type": "code",
   "execution_count": null,
   "metadata": {
    "id": "J2Wi7_22zSC3"
   },
   "outputs": [],
   "source": [
    "def filter_func(data, branch_list, branch_col, sort_col):\n",
    "    ''' 코드를 작성해주세요 '''"
   ]
  },
  {
   "cell_type": "markdown",
   "metadata": {
    "id": "1sZBqN50zSC3"
   },
   "source": [
    "- ['화성', '시흥', '경기광주']에 대한 정보 출력\n",
    "- 함수에 대한 값 입력 방식은 동일해야 합니다."
   ]
  },
  {
   "cell_type": "code",
   "execution_count": null,
   "metadata": {
    "id": "h9_YGLYe_t7a"
   },
   "outputs": [],
   "source": [
    "# 위에서 선언한 함수를 실행해주세요\n",
    "# 위의 코드셀에서 함수 선언에 대한 코드를 작성하고, 해당 셀에서는 별도의 추가 코드 없이 셀을 그대로 실행해주시길 바랍니다.\n",
    "\n",
    "filter_func(data = df,\n",
    "            branch_list = ['화성', '시흥', '경기광주'],\n",
    "            branch_col = '지사명',\n",
    "            sort_col = '발생건수')"
   ]
  },
  {
   "cell_type": "markdown",
   "metadata": {
    "id": "RBNccASmzSC3"
   },
   "source": [
    "<img src=\"./참고이미지/Q7/Q7_result_1.png\" width=\"50%\">"
   ]
  },
  {
   "cell_type": "markdown",
   "metadata": {
    "id": "601gqWcIQ3hB"
   },
   "source": [
    "---\n",
    "# Q8.서울본부 지사들의 발생건수 시각화"
   ]
  },
  {
   "cell_type": "markdown",
   "metadata": {
    "id": "-OEbapBQzSC3"
   },
   "source": [
    "- 참고자료\n",
    "    - 08_pandas.ipynb"
   ]
  },
  {
   "cell_type": "markdown",
   "metadata": {
    "id": "T46YyfXNzSC3"
   },
   "source": [
    "- 서울경기 본부의 사고 발생건수 시각화\n",
    "- 본부명 중에서, [서울경기] 데이터만 선택\n",
    "- 문제에서의 그림은 seaborn 라이브러리를 통해 작성함, 기본 집계설정(=평균) 적용"
   ]
  },
  {
   "cell_type": "markdown",
   "metadata": {
    "id": "D-k5R-oKzSC3"
   },
   "source": [
    "- 시각화에서 \"색상\", \"x축 이름 및 범위\", \"y축 이름 및 범위\"에 별도의 조건은 없습니다.\n",
    "- 한글 시각화에서 글자가 깨지는 현상이 반복될 경우, 한글 시각화에 필요한 코드를 적어두시기 바랍니다.\n",
    "- 경기 광주에서 검정색 세로 막대는 기본 설정일 때 자동으로 출력된 것으로, 별도로 신경쓰지 않으셔도 괜찮습니다."
   ]
  },
  {
   "cell_type": "code",
   "execution_count": null,
   "metadata": {
    "id": "gnD86dwzQ3hB"
   },
   "outputs": [],
   "source": [
    "import seaborn as sns\n",
    "import matplotlib.pyplot as plts\n",
    "plt.rc('font', family='Malgun Gothic')\n",
    "\n",
    "# 본부 중에서, 서울 경기 데이터만 선택합니다.\n",
    "# 서울경기 데이터에서, 지사명 별로 발생건수를 시각화합니다.\n",
    "\n",
    "''' 코드를 작성해주세요 '''"
   ]
  },
  {
   "cell_type": "markdown",
   "metadata": {
    "id": "Au-qyNuszSC3"
   },
   "source": [
    "<img src=\"./참고이미지/Q8/Q8_result_1.png\" width=\"90%\">"
   ]
  },
  {
   "cell_type": "markdown",
   "metadata": {
    "id": "SzzJh_-R_t7a"
   },
   "source": [
    "---\n",
    "# Q9. 함수 선언"
   ]
  },
  {
   "cell_type": "markdown",
   "metadata": {
    "id": "0g7nu_1SzSC4"
   },
   "source": [
    "- 참고자료\n",
    "    - 1.파이썬 문법.ipynb : def"
   ]
  },
  {
   "cell_type": "markdown",
   "metadata": {
    "id": "1HSSrqZVzSC4"
   },
   "source": [
    "- 입력변수 : 데이터프레임\n",
    "- 문제에서의 그림은 seaborn 라이브러리를 통해 작성함, 기본 집계설정(=평균) 적용\n",
    "\n",
    "- 함수 선언, 함수 이름은 자유롭게 정의\n",
    "    - (1) input()을 통해 본부명 입력받기\n",
    "    - (2) 해당 본부 지사의 발생건수 bar 차트 시각화\n",
    "    - (3) 존재하지 않는 본부면 \"XX 본부는 존재하지 않습니다.\" 출력\n",
    "    - (4) 올바른 본부명을 입력하기 전까지는 함수 계속 실행, 어떤 반복문이 적합할지 고민해보세요(for, while)"
   ]
  },
  {
   "cell_type": "code",
   "execution_count": null,
   "metadata": {
    "id": "GWMdESyszSC4"
   },
   "outputs": [],
   "source": [
    "# 데이터 읽기 및 확인용 코드셀입니다. 참고용으로만 사용하셔도 괜찮습니다.\n",
    "\n",
    "import pandas as pd\n",
    "import seaborn as sns\n",
    "import matplotlib.pyplot as plt\n",
    "plt.rc('font', family='Malgun Gothic')\n",
    "\n",
    "print('='*25, '한국도로공사_로드킬 데이터 정보_20231231.csv 데이터입니다', '='*25)\n",
    "df = pd.read_csv('./data_2/한국도로공사_로드킬 데이터 정보_20231231.csv', encoding='cp949')\n",
    "\n",
    "display(df)"
   ]
  },
  {
   "cell_type": "markdown",
   "metadata": {
    "id": "mf66O8M1zSC4"
   },
   "source": [
    "<img src=\"./참고이미지/Q9/Q9_img1.png\">"
   ]
  },
  {
   "cell_type": "code",
   "execution_count": null,
   "metadata": {
    "id": "KlrgUq2h_t7a"
   },
   "outputs": [],
   "source": [
    "def multi_center_bar_func(data, center_col, branch_col, accident_num_col, center_list):\n",
    "    ''' 코드를 작성해주세요 '''\n"
   ]
  },
  {
   "cell_type": "markdown",
   "metadata": {
    "id": "SHDdyeDRvxjx"
   },
   "source": [
    "- 시각화에서 \"색상\", \"x축 이름 및 범위\", \"y축 이름 및 범위\"에 별도의 조건은 없습니다.\n",
    "- 한글 시각화에서 글자가 깨지는 현상이 반복될 경우, 한글 시각화에 필요한 코드를 적어두시기 바랍니다.\n",
    "- 경기 광주에서 검정색 세로 막대는 기본 설정일 때 자동으로 출력된 것으로, 별도로 신경쓰지 않으셔도 괜찮습니다.\n",
    "- 함수에서 값 입력 방식은 동일하게 이루어져야 합니다."
   ]
  },
  {
   "cell_type": "code",
   "execution_count": null,
   "metadata": {
    "id": "cY6CYjH5zSC4"
   },
   "outputs": [],
   "source": [
    "# 위에서 선언한 함수를 실행해주세요\n",
    "\n",
    "tmp_center_list = ['서울경기', '강원', '충북', '대전충남', '광주전남', '전북', '부산경남', '대구경북']\n",
    "\n",
    "multi_center_bar_func(data = df,\n",
    "                      center_col = '본부명',\n",
    "                      branch_col = '지사명',\n",
    "                      accident_num_col = '발생건수',\n",
    "                      center_list = tmp_center_list)"
   ]
  },
  {
   "cell_type": "markdown",
   "metadata": {
    "id": "iwrpbIL8zSC4"
   },
   "source": [
    "<img src=\"./참고이미지/Q9/Q9_img2.png\" width=\"90%\">"
   ]
  },
  {
   "cell_type": "markdown",
   "metadata": {
    "id": "RCcNMBVi_t7a"
   },
   "source": [
    "---\n",
    "# Q10. 지도 시각화 - 서울경기 본부 중 발생건수 가장 많은 지사"
   ]
  },
  {
   "cell_type": "markdown",
   "metadata": {
    "id": "0mJmhULVzSC4"
   },
   "source": [
    "- 별도의 조건이 없다면, 시각화에서 \"색상\", \"x축 이름 및 범위\", \"y축 이름 및 범위\"는 default 설정으로 둡니다."
   ]
  },
  {
   "cell_type": "code",
   "execution_count": null,
   "metadata": {
    "id": "yfMksjn3_t7a"
   },
   "outputs": [],
   "source": [
    "# 본부명 중에서, [서울경기] 데이터만 선택\n",
    "# 발생 건수 내림차순 기준으로 데이터를 정렬합니다.\n",
    "# 가장 상단에 위치한 지사를 folium map에 표시\n",
    "\n",
    "import folium\n",
    "\n",
    "# 본부명 중에서 \"서울경기\"만 선택하고 발생건수가 많은 순서대로 출력해주세요\n",
    "\n",
    "\n",
    "print('='*25, '본부명 중에서 \"서울경기\"만 선택한 결과입니다.', '='*25)"
   ]
  },
  {
   "cell_type": "markdown",
   "metadata": {
    "id": "iKDS4tepzSC4"
   },
   "source": [
    "<img src=\"./참고이미지/Q10/Q10_img1.png\" width=\"50%\">"
   ]
  },
  {
   "cell_type": "code",
   "execution_count": null,
   "metadata": {
    "id": "lqhp8i8rzSC4"
   },
   "outputs": [],
   "source": [
    "# 발생건수가 가장 많은 데이터의 위치를 표시해주세요\n",
    "\n",
    "print('='*25, 'Folium Map을 통해 시각화한 결과입니다.', '='*25)"
   ]
  },
  {
   "cell_type": "markdown",
   "metadata": {
    "id": "HmI38oUzzSC4"
   },
   "source": [
    "<img src=\"./참고이미지/Q10/Q10_img2.png\" width=\"90%\">"
   ]
  },
  {
   "cell_type": "markdown",
   "metadata": {
    "id": "qC7H2YM7vxjy"
   },
   "source": [
    "## **🔎 [주관식 과제 수행 시 유의사항]**\n",
    "\n",
    "> **✅ 1. 정확한 출력값과 요구사항 이행 필수**  \n",
    "\n",
    "주관식 채점은 다음 기준에 따라 평가됩니다.\n",
    "\n",
    "1)출력 결과의 정확성  \n",
    "- 제공된 예시 결과와 동일한 출력이 나와야 합니다.  \n",
    "- 단, 실시간 데이터나 인공지능 학습 등으로 출력값에 변동성이 존재할 수 있는 문제는 예외로 처리합니다.  \n",
    "\n",
    "2)문제 요구사항의 충실한 반영  \n",
    "- 조건, 컬럼명, 출력 형식 등 모든 요구사항을 빠짐없이 반영해야 합니다.  \n",
    "- 사소한 조건도 놓치지 않도록 세심하게 코드를 작성해 주세요.  \n",
    "\n",
    "\n",
    "> **✅ 2. 완성된 코드 제출 필수**\n",
    "\n",
    "가. 제출한 코드 셀은 채점 시 직접 실행하여 결과를 확인할 수 있습니다.  \n",
    "\n",
    "- 재실행 시에도 동일한 결과가 나와야 정답으로 인정됩니다.  \n",
    "\n",
    "나. 버전 차이에 따른 미세한 수치 차이는 감안하나, 결과 형태나 구조가 다르면 감점 또는 오답 처리될 수 있습니다.  \n",
    "\n",
    "다. 시각화 문제에서 색상 지정이 없다면, 기본(default) 색상 사용을 전제로 합니다.  \n",
    "- 환경에 따라 색상이 다르게 출력되더라도 불이익은 없습니다.  \n",
    "\n",
    "> **✅ 3. 사용자 선언 함수/클래스 문제 주의사항**\n",
    "\n",
    "사용자 정의 함수, 클래스, 메서드와 관련된 문제에서는 추가적인 코드 없이도 함수만으로 정답 결과가 도출되어야 합니다.  \n",
    "- ❌ 함수 외부에서 plt.title, print, info() 등을 추가하여 결과를 보완하면 오답 처리됩니다.  \n",
    "\n",
    "> **✅ 4. 함수/클래스 선언 시 일관된 결과 유지**\n",
    "\n",
    "가. 함수, 클래스, 메서드는 반복 실행 시에도 항상 동일한 결과를 반환해야 합니다.  \n",
    "나. 채점 중 재실행 결과가 다르면 오답으로 처리됩니다.  \n",
    "\n",
    "> **📌 [안내 정리]**  \n",
    "\n",
    "가. 문제의 모든 조건을 꼼꼼히 확인하고 반영해 주세요.  \n",
    "나. 과제는 실무와 유사한 기준으로 평가되며, 요구 조건을 충족하지 않을 경우 0점 처리될 수 있습니다.  "
   ]
  },
  {
   "cell_type": "markdown",
   "metadata": {
    "id": "j-7e1tC3zSC5"
   },
   "source": [
    "> **<셀 출력 내 참고 문장 안내>**\n",
    "\n",
    "- 아래 문장은 출력 결과에 대한 설명을 위한 참고 문장일 뿐이며, 정답 코드 작성과는 무관합니다.  \n",
    "\n",
    "- 채점 시 해당 문장의 출력 유무는 결과에 영향을 미치지 않습니다.  \n",
    "\n",
    "**📌 예시 문장**  \n",
    "=============================== 경우의 수 : 함수 기본 실행 상태 ===================================="
   ]
  },
  {
   "cell_type": "markdown",
   "metadata": {
    "id": "lOzsYhprzSC5"
   },
   "source": [
    "<img src=\"./참고이미지/과제수행_안내사항.png\" width=\"60%\">"
   ]
  }
 ],
 "metadata": {
  "colab": {
   "provenance": []
  },
  "kernelspec": {
   "display_name": "myenv",
   "language": "python",
   "name": "python3"
  },
  "language_info": {
   "codemirror_mode": {
    "name": "ipython",
    "version": 3
   },
   "file_extension": ".py",
   "mimetype": "text/x-python",
   "name": "python",
   "nbconvert_exporter": "python",
   "pygments_lexer": "ipython3",
   "version": "3.11.13"
  }
 },
 "nbformat": 4,
 "nbformat_minor": 0
}
