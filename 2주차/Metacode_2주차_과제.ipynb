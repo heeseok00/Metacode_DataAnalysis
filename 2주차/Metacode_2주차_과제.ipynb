{
 "cells": [
  {
   "cell_type": "markdown",
   "id": "03b0ed52",
   "metadata": {},
   "source": [
    "# **2주차 과제**"
   ]
  },
  {
   "cell_type": "markdown",
   "id": "a7e2688a",
   "metadata": {},
   "source": [
    "## Q1. 데이터 전처리 - 결측치"
   ]
  },
  {
   "cell_type": "code",
   "execution_count": 1,
   "id": "df6b5d1f",
   "metadata": {},
   "outputs": [
    {
     "name": "stdout",
     "output_type": "stream",
     "text": [
      "========================= eda_order.csv 정보입니다 =========================\n"
     ]
    },
    {
     "data": {
      "text/html": [
       "<div>\n",
       "<style scoped>\n",
       "    .dataframe tbody tr th:only-of-type {\n",
       "        vertical-align: middle;\n",
       "    }\n",
       "\n",
       "    .dataframe tbody tr th {\n",
       "        vertical-align: top;\n",
       "    }\n",
       "\n",
       "    .dataframe thead th {\n",
       "        text-align: right;\n",
       "    }\n",
       "</style>\n",
       "<table border=\"1\" class=\"dataframe\">\n",
       "  <thead>\n",
       "    <tr style=\"text-align: right;\">\n",
       "      <th></th>\n",
       "      <th>order_id</th>\n",
       "      <th>user_id</th>\n",
       "      <th>product_id</th>\n",
       "      <th>order_date</th>\n",
       "      <th>quantity</th>\n",
       "      <th>discount_ratio</th>\n",
       "      <th>pay_date</th>\n",
       "    </tr>\n",
       "  </thead>\n",
       "  <tbody>\n",
       "    <tr>\n",
       "      <th>0</th>\n",
       "      <td>1.0</td>\n",
       "      <td>960.0</td>\n",
       "      <td>17.0</td>\n",
       "      <td>2023-02-07</td>\n",
       "      <td>6.0</td>\n",
       "      <td>0.004746</td>\n",
       "      <td>2023-02-09</td>\n",
       "    </tr>\n",
       "    <tr>\n",
       "      <th>1</th>\n",
       "      <td>6.0</td>\n",
       "      <td>1447.0</td>\n",
       "      <td>6.0</td>\n",
       "      <td>2023-01-12</td>\n",
       "      <td>6.0</td>\n",
       "      <td>0.008240</td>\n",
       "      <td>2023-01-14</td>\n",
       "    </tr>\n",
       "    <tr>\n",
       "      <th>2</th>\n",
       "      <td>14.0</td>\n",
       "      <td>1325.0</td>\n",
       "      <td>17.0</td>\n",
       "      <td>2023-02-15</td>\n",
       "      <td>6.0</td>\n",
       "      <td>0.039391</td>\n",
       "      <td>NaN</td>\n",
       "    </tr>\n",
       "    <tr>\n",
       "      <th>3</th>\n",
       "      <td>17.0</td>\n",
       "      <td>102.0</td>\n",
       "      <td>1.0</td>\n",
       "      <td>2023-02-20</td>\n",
       "      <td>6.0</td>\n",
       "      <td>0.007944</td>\n",
       "      <td>2023-02-26</td>\n",
       "    </tr>\n",
       "    <tr>\n",
       "      <th>4</th>\n",
       "      <td>38.0</td>\n",
       "      <td>94.0</td>\n",
       "      <td>8.0</td>\n",
       "      <td>2023-02-11</td>\n",
       "      <td>6.0</td>\n",
       "      <td>0.014037</td>\n",
       "      <td>2023-02-13</td>\n",
       "    </tr>\n",
       "    <tr>\n",
       "      <th>...</th>\n",
       "      <td>...</td>\n",
       "      <td>...</td>\n",
       "      <td>...</td>\n",
       "      <td>...</td>\n",
       "      <td>...</td>\n",
       "      <td>...</td>\n",
       "      <td>...</td>\n",
       "    </tr>\n",
       "    <tr>\n",
       "      <th>4995</th>\n",
       "      <td>2695.0</td>\n",
       "      <td>99.0</td>\n",
       "      <td>7.0</td>\n",
       "      <td>2023-02-27</td>\n",
       "      <td>46.0</td>\n",
       "      <td>0.313272</td>\n",
       "      <td>NaN</td>\n",
       "    </tr>\n",
       "    <tr>\n",
       "      <th>4996</th>\n",
       "      <td>3166.0</td>\n",
       "      <td>552.0</td>\n",
       "      <td>7.0</td>\n",
       "      <td>2023-02-26</td>\n",
       "      <td>46.0</td>\n",
       "      <td>0.056302</td>\n",
       "      <td>NaN</td>\n",
       "    </tr>\n",
       "    <tr>\n",
       "      <th>4997</th>\n",
       "      <td>3092.0</td>\n",
       "      <td>149.0</td>\n",
       "      <td>7.0</td>\n",
       "      <td>2023-02-20</td>\n",
       "      <td>58.0</td>\n",
       "      <td>0.142290</td>\n",
       "      <td>2023-02-22</td>\n",
       "    </tr>\n",
       "    <tr>\n",
       "      <th>4998</th>\n",
       "      <td>3700.0</td>\n",
       "      <td>620.0</td>\n",
       "      <td>7.0</td>\n",
       "      <td>2023-02-21</td>\n",
       "      <td>36.0</td>\n",
       "      <td>0.119259</td>\n",
       "      <td>2023-02-21</td>\n",
       "    </tr>\n",
       "    <tr>\n",
       "      <th>4999</th>\n",
       "      <td>4808.0</td>\n",
       "      <td>926.0</td>\n",
       "      <td>7.0</td>\n",
       "      <td>2023-02-25</td>\n",
       "      <td>48.0</td>\n",
       "      <td>0.277353</td>\n",
       "      <td>NaN</td>\n",
       "    </tr>\n",
       "  </tbody>\n",
       "</table>\n",
       "<p>5000 rows × 7 columns</p>\n",
       "</div>"
      ],
      "text/plain": [
       "      order_id  user_id  product_id  order_date  quantity  discount_ratio  \\\n",
       "0          1.0    960.0        17.0  2023-02-07       6.0        0.004746   \n",
       "1          6.0   1447.0         6.0  2023-01-12       6.0        0.008240   \n",
       "2         14.0   1325.0        17.0  2023-02-15       6.0        0.039391   \n",
       "3         17.0    102.0         1.0  2023-02-20       6.0        0.007944   \n",
       "4         38.0     94.0         8.0  2023-02-11       6.0        0.014037   \n",
       "...        ...      ...         ...         ...       ...             ...   \n",
       "4995    2695.0     99.0         7.0  2023-02-27      46.0        0.313272   \n",
       "4996    3166.0    552.0         7.0  2023-02-26      46.0        0.056302   \n",
       "4997    3092.0    149.0         7.0  2023-02-20      58.0        0.142290   \n",
       "4998    3700.0    620.0         7.0  2023-02-21      36.0        0.119259   \n",
       "4999    4808.0    926.0         7.0  2023-02-25      48.0        0.277353   \n",
       "\n",
       "        pay_date  \n",
       "0     2023-02-09  \n",
       "1     2023-01-14  \n",
       "2            NaN  \n",
       "3     2023-02-26  \n",
       "4     2023-02-13  \n",
       "...          ...  \n",
       "4995         NaN  \n",
       "4996         NaN  \n",
       "4997  2023-02-22  \n",
       "4998  2023-02-21  \n",
       "4999         NaN  \n",
       "\n",
       "[5000 rows x 7 columns]"
      ]
     },
     "metadata": {},
     "output_type": "display_data"
    }
   ],
   "source": [
    "# 데이터 불러오기 및 확인\n",
    "\n",
    "import pandas as pd\n",
    "\n",
    "order_df = pd.read_csv('./data_1/eda_order.csv')\n",
    "print('='*25, 'eda_order.csv 정보입니다', '='*25)\n",
    "display(order_df)"
   ]
  },
  {
   "cell_type": "code",
   "execution_count": 2,
   "id": "d9bcfbcb",
   "metadata": {},
   "outputs": [
    {
     "name": "stdout",
     "output_type": "stream",
     "text": [
      "========================= 결측치 제거 이전 =========================\n",
      "<class 'pandas.core.frame.DataFrame'>\n",
      "RangeIndex: 5000 entries, 0 to 4999\n",
      "Data columns (total 7 columns):\n",
      " #   Column          Non-Null Count  Dtype  \n",
      "---  ------          --------------  -----  \n",
      " 0   order_id        5000 non-null   float64\n",
      " 1   user_id         5000 non-null   float64\n",
      " 2   product_id      5000 non-null   float64\n",
      " 3   order_date      5000 non-null   object \n",
      " 4   quantity        5000 non-null   float64\n",
      " 5   discount_ratio  5000 non-null   float64\n",
      " 6   pay_date        3738 non-null   object \n",
      "dtypes: float64(5), object(2)\n",
      "memory usage: 273.6+ KB\n",
      "None\n",
      "\n",
      " 컬럼별 결측치 개수:\n",
      " order_id             0\n",
      "user_id              0\n",
      "product_id           0\n",
      "order_date           0\n",
      "quantity             0\n",
      "discount_ratio       0\n",
      "pay_date          1262\n",
      "dtype: int64\n",
      "\n",
      "========================= 결측치 제거 이후 =========================\n",
      "<class 'pandas.core.frame.DataFrame'>\n",
      "Index: 3738 entries, 0 to 4998\n",
      "Data columns (total 7 columns):\n",
      " #   Column          Non-Null Count  Dtype  \n",
      "---  ------          --------------  -----  \n",
      " 0   order_id        3738 non-null   float64\n",
      " 1   user_id         3738 non-null   float64\n",
      " 2   product_id      3738 non-null   float64\n",
      " 3   order_date      3738 non-null   object \n",
      " 4   quantity        3738 non-null   float64\n",
      " 5   discount_ratio  3738 non-null   float64\n",
      " 6   pay_date        3738 non-null   object \n",
      "dtypes: float64(5), object(2)\n",
      "memory usage: 233.6+ KB\n",
      "None\n",
      "\n",
      "컬럼별 결측치 개수:\n",
      " order_id          0\n",
      "user_id           0\n",
      "product_id        0\n",
      "order_date        0\n",
      "quantity          0\n",
      "discount_ratio    0\n",
      "pay_date          0\n",
      "dtype: int64\n"
     ]
    }
   ],
   "source": [
    "#결측치 제거 전\n",
    "print('='*25, '결측치 제거 이전', '='*25) #구분선 제작\n",
    "print(order_df.info())\n",
    "print(\"\\n 컬럼별 결측치 개수:\\n\", order_df.isnull().sum())\n",
    "\n",
    "#결측치 제거\n",
    "order_df_drop = order_df.dropna()\n",
    "\n",
    "#결측치 제거 후 \n",
    "print('\\n' + '='*25,'결측치 제거 이후', '='*25)\n",
    "print(order_df_drop.info())\n",
    "print(\"\\n컬럼별 결측치 개수:\\n\", order_df_drop.isnull().sum())"
   ]
  },
  {
   "cell_type": "markdown",
   "id": "0bc2a0f5",
   "metadata": {},
   "source": [
    "---\n",
    "# Q2. 유저별로 첫 방문일자와 최근 방문일자 확인"
   ]
  },
  {
   "cell_type": "code",
   "execution_count": 3,
   "id": "14bdb79a",
   "metadata": {},
   "outputs": [
    {
     "data": {
      "text/html": [
       "<div>\n",
       "<style scoped>\n",
       "    .dataframe tbody tr th:only-of-type {\n",
       "        vertical-align: middle;\n",
       "    }\n",
       "\n",
       "    .dataframe tbody tr th {\n",
       "        vertical-align: top;\n",
       "    }\n",
       "\n",
       "    .dataframe thead th {\n",
       "        text-align: right;\n",
       "    }\n",
       "</style>\n",
       "<table border=\"1\" class=\"dataframe\">\n",
       "  <thead>\n",
       "    <tr style=\"text-align: right;\">\n",
       "      <th></th>\n",
       "      <th>user_id</th>\n",
       "      <th>source</th>\n",
       "      <th>campaign</th>\n",
       "      <th>timestamp</th>\n",
       "    </tr>\n",
       "  </thead>\n",
       "  <tbody>\n",
       "    <tr>\n",
       "      <th>0</th>\n",
       "      <td>1017.0</td>\n",
       "      <td>NaN</td>\n",
       "      <td>NaN</td>\n",
       "      <td>2022-12-15 13:06:36.361808000</td>\n",
       "    </tr>\n",
       "    <tr>\n",
       "      <th>1</th>\n",
       "      <td>1017.0</td>\n",
       "      <td>NaN</td>\n",
       "      <td>NaN</td>\n",
       "      <td>2023-02-20 02:46:59.416083200</td>\n",
       "    </tr>\n",
       "    <tr>\n",
       "      <th>2</th>\n",
       "      <td>1017.0</td>\n",
       "      <td>b</td>\n",
       "      <td>campaign_8</td>\n",
       "      <td>2023-02-08 13:10:49.026771200</td>\n",
       "    </tr>\n",
       "    <tr>\n",
       "      <th>3</th>\n",
       "      <td>1398.0</td>\n",
       "      <td>b</td>\n",
       "      <td>campaign_6</td>\n",
       "      <td>2023-01-07 06:37:27.756224000</td>\n",
       "    </tr>\n",
       "    <tr>\n",
       "      <th>4</th>\n",
       "      <td>1398.0</td>\n",
       "      <td>NaN</td>\n",
       "      <td>NaN</td>\n",
       "      <td>2023-01-19 00:49:56.166291200</td>\n",
       "    </tr>\n",
       "    <tr>\n",
       "      <th>...</th>\n",
       "      <td>...</td>\n",
       "      <td>...</td>\n",
       "      <td>...</td>\n",
       "      <td>...</td>\n",
       "    </tr>\n",
       "    <tr>\n",
       "      <th>2214</th>\n",
       "      <td>19.0</td>\n",
       "      <td>NaN</td>\n",
       "      <td>NaN</td>\n",
       "      <td>2022-12-31 02:33:28.486646400</td>\n",
       "    </tr>\n",
       "    <tr>\n",
       "      <th>2215</th>\n",
       "      <td>19.0</td>\n",
       "      <td>NaN</td>\n",
       "      <td>NaN</td>\n",
       "      <td>2023-04-19 06:42:09.471859200</td>\n",
       "    </tr>\n",
       "    <tr>\n",
       "      <th>2216</th>\n",
       "      <td>19.0</td>\n",
       "      <td>NaN</td>\n",
       "      <td>NaN</td>\n",
       "      <td>2023-01-20 02:39:59.212771200</td>\n",
       "    </tr>\n",
       "    <tr>\n",
       "      <th>2217</th>\n",
       "      <td>868.0</td>\n",
       "      <td>NaN</td>\n",
       "      <td>NaN</td>\n",
       "      <td>2023-01-08 04:00:25.681513600</td>\n",
       "    </tr>\n",
       "    <tr>\n",
       "      <th>2218</th>\n",
       "      <td>868.0</td>\n",
       "      <td>b</td>\n",
       "      <td>campaign_9</td>\n",
       "      <td>2023-02-14 18:53:30.268672000</td>\n",
       "    </tr>\n",
       "  </tbody>\n",
       "</table>\n",
       "<p>2219 rows × 4 columns</p>\n",
       "</div>"
      ],
      "text/plain": [
       "      user_id source    campaign                      timestamp\n",
       "0      1017.0    NaN         NaN  2022-12-15 13:06:36.361808000\n",
       "1      1017.0    NaN         NaN  2023-02-20 02:46:59.416083200\n",
       "2      1017.0      b  campaign_8  2023-02-08 13:10:49.026771200\n",
       "3      1398.0      b  campaign_6  2023-01-07 06:37:27.756224000\n",
       "4      1398.0    NaN         NaN  2023-01-19 00:49:56.166291200\n",
       "...       ...    ...         ...                            ...\n",
       "2214     19.0    NaN         NaN  2022-12-31 02:33:28.486646400\n",
       "2215     19.0    NaN         NaN  2023-04-19 06:42:09.471859200\n",
       "2216     19.0    NaN         NaN  2023-01-20 02:39:59.212771200\n",
       "2217    868.0    NaN         NaN  2023-01-08 04:00:25.681513600\n",
       "2218    868.0      b  campaign_9  2023-02-14 18:53:30.268672000\n",
       "\n",
       "[2219 rows x 4 columns]"
      ]
     },
     "metadata": {},
     "output_type": "display_data"
    }
   ],
   "source": [
    "# Q2. 유저별 첫 방문일자와 최근 방문일자 확인 - 데이터 불러오기\n",
    "\n",
    "visit_df = pd.read_csv('./data_1/eda_visit.csv')  # 방문 데이터 CSV 불러오기\n",
    "display(visit_df)  # 데이터 미리보기\n"
   ]
  },
  {
   "cell_type": "code",
   "execution_count": 5,
   "id": "1af48793",
   "metadata": {},
   "outputs": [
    {
     "data": {
      "text/html": [
       "<div>\n",
       "<style scoped>\n",
       "    .dataframe tbody tr th:only-of-type {\n",
       "        vertical-align: middle;\n",
       "    }\n",
       "\n",
       "    .dataframe tbody tr th {\n",
       "        vertical-align: top;\n",
       "    }\n",
       "\n",
       "    .dataframe thead th {\n",
       "        text-align: right;\n",
       "    }\n",
       "</style>\n",
       "<table border=\"1\" class=\"dataframe\">\n",
       "  <thead>\n",
       "    <tr style=\"text-align: right;\">\n",
       "      <th></th>\n",
       "      <th>user_id</th>\n",
       "      <th>first_date</th>\n",
       "      <th>recent_date</th>\n",
       "    </tr>\n",
       "  </thead>\n",
       "  <tbody>\n",
       "    <tr>\n",
       "      <th>0</th>\n",
       "      <td>2.0</td>\n",
       "      <td>2022-11-18 13:32:19.457043200</td>\n",
       "      <td>2023-04-04 18:35:23.424323200</td>\n",
       "    </tr>\n",
       "    <tr>\n",
       "      <th>1</th>\n",
       "      <td>4.0</td>\n",
       "      <td>2023-01-20 05:48:04.159916800</td>\n",
       "      <td>2023-02-16 17:37:50.886953600</td>\n",
       "    </tr>\n",
       "    <tr>\n",
       "      <th>2</th>\n",
       "      <td>5.0</td>\n",
       "      <td>2023-01-24 05:33:01.551558400</td>\n",
       "      <td>2023-01-24 05:33:01.551558400</td>\n",
       "    </tr>\n",
       "    <tr>\n",
       "      <th>3</th>\n",
       "      <td>6.0</td>\n",
       "      <td>2022-12-24 21:35:51.627040000</td>\n",
       "      <td>2023-03-16 22:33:14.782166400</td>\n",
       "    </tr>\n",
       "    <tr>\n",
       "      <th>4</th>\n",
       "      <td>7.0</td>\n",
       "      <td>2022-12-23 08:13:26.529830400</td>\n",
       "      <td>2023-01-04 11:38:32.537126400</td>\n",
       "    </tr>\n",
       "    <tr>\n",
       "      <th>...</th>\n",
       "      <td>...</td>\n",
       "      <td>...</td>\n",
       "      <td>...</td>\n",
       "    </tr>\n",
       "    <tr>\n",
       "      <th>714</th>\n",
       "      <td>1486.0</td>\n",
       "      <td>2022-11-15 14:28:22.264838400</td>\n",
       "      <td>2023-04-27 19:55:14.478800000</td>\n",
       "    </tr>\n",
       "    <tr>\n",
       "      <th>715</th>\n",
       "      <td>1488.0</td>\n",
       "      <td>2022-11-08 13:44:49.606659200</td>\n",
       "      <td>2023-04-14 07:36:10.313782400</td>\n",
       "    </tr>\n",
       "    <tr>\n",
       "      <th>716</th>\n",
       "      <td>1492.0</td>\n",
       "      <td>2023-02-04 06:25:28.477433600</td>\n",
       "      <td>2023-03-04 07:00:51.261228800</td>\n",
       "    </tr>\n",
       "    <tr>\n",
       "      <th>717</th>\n",
       "      <td>1494.0</td>\n",
       "      <td>2023-02-11 09:16:39.744742400</td>\n",
       "      <td>2023-04-11 04:13:27.064892800</td>\n",
       "    </tr>\n",
       "    <tr>\n",
       "      <th>718</th>\n",
       "      <td>1497.0</td>\n",
       "      <td>2022-12-14 04:15:50.985769600</td>\n",
       "      <td>2023-01-14 00:34:32.429574400</td>\n",
       "    </tr>\n",
       "  </tbody>\n",
       "</table>\n",
       "<p>719 rows × 3 columns</p>\n",
       "</div>"
      ],
      "text/plain": [
       "     user_id                    first_date                   recent_date\n",
       "0        2.0 2022-11-18 13:32:19.457043200 2023-04-04 18:35:23.424323200\n",
       "1        4.0 2023-01-20 05:48:04.159916800 2023-02-16 17:37:50.886953600\n",
       "2        5.0 2023-01-24 05:33:01.551558400 2023-01-24 05:33:01.551558400\n",
       "3        6.0 2022-12-24 21:35:51.627040000 2023-03-16 22:33:14.782166400\n",
       "4        7.0 2022-12-23 08:13:26.529830400 2023-01-04 11:38:32.537126400\n",
       "..       ...                           ...                           ...\n",
       "714   1486.0 2022-11-15 14:28:22.264838400 2023-04-27 19:55:14.478800000\n",
       "715   1488.0 2022-11-08 13:44:49.606659200 2023-04-14 07:36:10.313782400\n",
       "716   1492.0 2023-02-04 06:25:28.477433600 2023-03-04 07:00:51.261228800\n",
       "717   1494.0 2023-02-11 09:16:39.744742400 2023-04-11 04:13:27.064892800\n",
       "718   1497.0 2022-12-14 04:15:50.985769600 2023-01-14 00:34:32.429574400\n",
       "\n",
       "[719 rows x 3 columns]"
      ]
     },
     "metadata": {},
     "output_type": "display_data"
    }
   ],
   "source": [
    "# timestamp 컬럼을 datetime으로 변환\n",
    "visit_df['timestamp'] = pd.to_datetime(visit_df['timestamp'])\n",
    "\n",
    "# user_id별로 첫 방문일자(min), 마지막 방문일자(max) 집계\n",
    "visit_group = visit_df.groupby('user_id')['timestamp'].agg(first_date='min', recent_date='max').reset_index()\n",
    "\n",
    "# 결과 출력\n",
    "display(visit_group)\n",
    "\n"
   ]
  },
  {
   "cell_type": "markdown",
   "id": "ec33b501",
   "metadata": {},
   "source": [
    "---\n",
    "# Q3. 유저별 서비스 이용기간 확인"
   ]
  },
  {
   "cell_type": "code",
   "execution_count": 11,
   "id": "706f8434",
   "metadata": {},
   "outputs": [
    {
     "data": {
      "text/html": [
       "<div>\n",
       "<style scoped>\n",
       "    .dataframe tbody tr th:only-of-type {\n",
       "        vertical-align: middle;\n",
       "    }\n",
       "\n",
       "    .dataframe tbody tr th {\n",
       "        vertical-align: top;\n",
       "    }\n",
       "\n",
       "    .dataframe thead th {\n",
       "        text-align: right;\n",
       "    }\n",
       "</style>\n",
       "<table border=\"1\" class=\"dataframe\">\n",
       "  <thead>\n",
       "    <tr style=\"text-align: right;\">\n",
       "      <th></th>\n",
       "      <th>user_id</th>\n",
       "      <th>first_date</th>\n",
       "      <th>recent_date</th>\n",
       "      <th>service_period</th>\n",
       "    </tr>\n",
       "  </thead>\n",
       "  <tbody>\n",
       "    <tr>\n",
       "      <th>262</th>\n",
       "      <td>546.0</td>\n",
       "      <td>2022-11-18 18:09:06.901977600</td>\n",
       "      <td>2023-05-23 23:09:39.627158400</td>\n",
       "      <td>186.208712</td>\n",
       "    </tr>\n",
       "    <tr>\n",
       "      <th>661</th>\n",
       "      <td>1365.0</td>\n",
       "      <td>2022-10-07 14:14:09.752329601</td>\n",
       "      <td>2023-04-07 18:13:20.279174400</td>\n",
       "      <td>182.166094</td>\n",
       "    </tr>\n",
       "    <tr>\n",
       "      <th>675</th>\n",
       "      <td>1396.0</td>\n",
       "      <td>2022-11-20 07:17:20.257548800</td>\n",
       "      <td>2023-05-19 21:14:13.673203200</td>\n",
       "      <td>180.581174</td>\n",
       "    </tr>\n",
       "    <tr>\n",
       "      <th>699</th>\n",
       "      <td>1448.0</td>\n",
       "      <td>2022-11-20 02:07:35.142374400</td>\n",
       "      <td>2023-05-18 16:01:41.751561600</td>\n",
       "      <td>179.579243</td>\n",
       "    </tr>\n",
       "    <tr>\n",
       "      <th>114</th>\n",
       "      <td>240.0</td>\n",
       "      <td>2022-10-09 09:10:37.274332800</td>\n",
       "      <td>2023-04-04 07:01:03.403747200</td>\n",
       "      <td>176.910025</td>\n",
       "    </tr>\n",
       "    <tr>\n",
       "      <th>...</th>\n",
       "      <td>...</td>\n",
       "      <td>...</td>\n",
       "      <td>...</td>\n",
       "      <td>...</td>\n",
       "    </tr>\n",
       "    <tr>\n",
       "      <th>19</th>\n",
       "      <td>29.0</td>\n",
       "      <td>2023-02-01 07:31:45.367001600</td>\n",
       "      <td>2023-02-01 07:31:45.367001600</td>\n",
       "      <td>0.000000</td>\n",
       "    </tr>\n",
       "    <tr>\n",
       "      <th>2</th>\n",
       "      <td>5.0</td>\n",
       "      <td>2023-01-24 05:33:01.551558400</td>\n",
       "      <td>2023-01-24 05:33:01.551558400</td>\n",
       "      <td>0.000000</td>\n",
       "    </tr>\n",
       "    <tr>\n",
       "      <th>16</th>\n",
       "      <td>25.0</td>\n",
       "      <td>2023-03-31 17:19:45.531193600</td>\n",
       "      <td>2023-03-31 17:19:45.531193600</td>\n",
       "      <td>0.000000</td>\n",
       "    </tr>\n",
       "    <tr>\n",
       "      <th>13</th>\n",
       "      <td>21.0</td>\n",
       "      <td>2022-12-23 16:15:39.779952001</td>\n",
       "      <td>2022-12-23 16:15:39.779952001</td>\n",
       "      <td>0.000000</td>\n",
       "    </tr>\n",
       "    <tr>\n",
       "      <th>9</th>\n",
       "      <td>17.0</td>\n",
       "      <td>2023-02-22 05:00:49.151046400</td>\n",
       "      <td>2023-02-22 05:00:49.151046400</td>\n",
       "      <td>0.000000</td>\n",
       "    </tr>\n",
       "  </tbody>\n",
       "</table>\n",
       "<p>719 rows × 4 columns</p>\n",
       "</div>"
      ],
      "text/plain": [
       "     user_id                    first_date                   recent_date  \\\n",
       "262    546.0 2022-11-18 18:09:06.901977600 2023-05-23 23:09:39.627158400   \n",
       "661   1365.0 2022-10-07 14:14:09.752329601 2023-04-07 18:13:20.279174400   \n",
       "675   1396.0 2022-11-20 07:17:20.257548800 2023-05-19 21:14:13.673203200   \n",
       "699   1448.0 2022-11-20 02:07:35.142374400 2023-05-18 16:01:41.751561600   \n",
       "114    240.0 2022-10-09 09:10:37.274332800 2023-04-04 07:01:03.403747200   \n",
       "..       ...                           ...                           ...   \n",
       "19      29.0 2023-02-01 07:31:45.367001600 2023-02-01 07:31:45.367001600   \n",
       "2        5.0 2023-01-24 05:33:01.551558400 2023-01-24 05:33:01.551558400   \n",
       "16      25.0 2023-03-31 17:19:45.531193600 2023-03-31 17:19:45.531193600   \n",
       "13      21.0 2022-12-23 16:15:39.779952001 2022-12-23 16:15:39.779952001   \n",
       "9       17.0 2023-02-22 05:00:49.151046400 2023-02-22 05:00:49.151046400   \n",
       "\n",
       "     service_period  \n",
       "262      186.208712  \n",
       "661      182.166094  \n",
       "675      180.581174  \n",
       "699      179.579243  \n",
       "114      176.910025  \n",
       "..              ...  \n",
       "19         0.000000  \n",
       "2          0.000000  \n",
       "16         0.000000  \n",
       "13         0.000000  \n",
       "9          0.000000  \n",
       "\n",
       "[719 rows x 4 columns]"
      ]
     },
     "metadata": {},
     "output_type": "display_data"
    }
   ],
   "source": [
    "visit_group['first_date'] = pd.to_datetime(visit_group['first_date'])\n",
    "visit_group['recent_date'] = pd.to_datetime(visit_group['recent_date'])\n",
    "\n",
    "visit_group_sorted = visit_group.sort_values(by='service_period', ascending=False)\n",
    "display(visit_group_sorted)\n",
    "\n"
   ]
  },
  {
   "cell_type": "markdown",
   "id": "5e53bdf6",
   "metadata": {},
   "source": [
    "---\n",
    "# Q4. 서비스 이용기간 분포 시각화"
   ]
  },
  {
   "cell_type": "code",
   "execution_count": 12,
   "id": "ed48a0a1",
   "metadata": {},
   "outputs": [
    {
     "data": {
      "application/vnd.plotly.v1+json": {
       "config": {
        "plotlyServerURL": "https://plot.ly"
       },
       "data": [
        {
         "bingroup": "x",
         "hovertemplate": "service_period=%{x}<br>count=%{y}<extra></extra>",
         "legendgroup": "",
         "marker": {
          "color": "royalblue",
          "pattern": {
           "shape": ""
          }
         },
         "name": "",
         "nbinsx": 20,
         "orientation": "v",
         "showlegend": false,
         "type": "histogram",
         "x": {
          "bdata": "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",
          "dtype": "f8"
         },
         "xaxis": "x",
         "yaxis": "y"
        }
       ],
       "layout": {
        "barmode": "relative",
        "legend": {
         "tracegroupgap": 0
        },
        "margin": {
         "t": 60
        },
        "template": {
         "data": {
          "bar": [
           {
            "error_x": {
             "color": "#2a3f5f"
            },
            "error_y": {
             "color": "#2a3f5f"
            },
            "marker": {
             "line": {
              "color": "#E5ECF6",
              "width": 0.5
             },
             "pattern": {
              "fillmode": "overlay",
              "size": 10,
              "solidity": 0.2
             }
            },
            "type": "bar"
           }
          ],
          "barpolar": [
           {
            "marker": {
             "line": {
              "color": "#E5ECF6",
              "width": 0.5
             },
             "pattern": {
              "fillmode": "overlay",
              "size": 10,
              "solidity": 0.2
             }
            },
            "type": "barpolar"
           }
          ],
          "carpet": [
           {
            "aaxis": {
             "endlinecolor": "#2a3f5f",
             "gridcolor": "white",
             "linecolor": "white",
             "minorgridcolor": "white",
             "startlinecolor": "#2a3f5f"
            },
            "baxis": {
             "endlinecolor": "#2a3f5f",
             "gridcolor": "white",
             "linecolor": "white",
             "minorgridcolor": "white",
             "startlinecolor": "#2a3f5f"
            },
            "type": "carpet"
           }
          ],
          "choropleth": [
           {
            "colorbar": {
             "outlinewidth": 0,
             "ticks": ""
            },
            "type": "choropleth"
           }
          ],
          "contour": [
           {
            "colorbar": {
             "outlinewidth": 0,
             "ticks": ""
            },
            "colorscale": [
             [
              0,
              "#0d0887"
             ],
             [
              0.1111111111111111,
              "#46039f"
             ],
             [
              0.2222222222222222,
              "#7201a8"
             ],
             [
              0.3333333333333333,
              "#9c179e"
             ],
             [
              0.4444444444444444,
              "#bd3786"
             ],
             [
              0.5555555555555556,
              "#d8576b"
             ],
             [
              0.6666666666666666,
              "#ed7953"
             ],
             [
              0.7777777777777778,
              "#fb9f3a"
             ],
             [
              0.8888888888888888,
              "#fdca26"
             ],
             [
              1,
              "#f0f921"
             ]
            ],
            "type": "contour"
           }
          ],
          "contourcarpet": [
           {
            "colorbar": {
             "outlinewidth": 0,
             "ticks": ""
            },
            "type": "contourcarpet"
           }
          ],
          "heatmap": [
           {
            "colorbar": {
             "outlinewidth": 0,
             "ticks": ""
            },
            "colorscale": [
             [
              0,
              "#0d0887"
             ],
             [
              0.1111111111111111,
              "#46039f"
             ],
             [
              0.2222222222222222,
              "#7201a8"
             ],
             [
              0.3333333333333333,
              "#9c179e"
             ],
             [
              0.4444444444444444,
              "#bd3786"
             ],
             [
              0.5555555555555556,
              "#d8576b"
             ],
             [
              0.6666666666666666,
              "#ed7953"
             ],
             [
              0.7777777777777778,
              "#fb9f3a"
             ],
             [
              0.8888888888888888,
              "#fdca26"
             ],
             [
              1,
              "#f0f921"
             ]
            ],
            "type": "heatmap"
           }
          ],
          "histogram": [
           {
            "marker": {
             "pattern": {
              "fillmode": "overlay",
              "size": 10,
              "solidity": 0.2
             }
            },
            "type": "histogram"
           }
          ],
          "histogram2d": [
           {
            "colorbar": {
             "outlinewidth": 0,
             "ticks": ""
            },
            "colorscale": [
             [
              0,
              "#0d0887"
             ],
             [
              0.1111111111111111,
              "#46039f"
             ],
             [
              0.2222222222222222,
              "#7201a8"
             ],
             [
              0.3333333333333333,
              "#9c179e"
             ],
             [
              0.4444444444444444,
              "#bd3786"
             ],
             [
              0.5555555555555556,
              "#d8576b"
             ],
             [
              0.6666666666666666,
              "#ed7953"
             ],
             [
              0.7777777777777778,
              "#fb9f3a"
             ],
             [
              0.8888888888888888,
              "#fdca26"
             ],
             [
              1,
              "#f0f921"
             ]
            ],
            "type": "histogram2d"
           }
          ],
          "histogram2dcontour": [
           {
            "colorbar": {
             "outlinewidth": 0,
             "ticks": ""
            },
            "colorscale": [
             [
              0,
              "#0d0887"
             ],
             [
              0.1111111111111111,
              "#46039f"
             ],
             [
              0.2222222222222222,
              "#7201a8"
             ],
             [
              0.3333333333333333,
              "#9c179e"
             ],
             [
              0.4444444444444444,
              "#bd3786"
             ],
             [
              0.5555555555555556,
              "#d8576b"
             ],
             [
              0.6666666666666666,
              "#ed7953"
             ],
             [
              0.7777777777777778,
              "#fb9f3a"
             ],
             [
              0.8888888888888888,
              "#fdca26"
             ],
             [
              1,
              "#f0f921"
             ]
            ],
            "type": "histogram2dcontour"
           }
          ],
          "mesh3d": [
           {
            "colorbar": {
             "outlinewidth": 0,
             "ticks": ""
            },
            "type": "mesh3d"
           }
          ],
          "parcoords": [
           {
            "line": {
             "colorbar": {
              "outlinewidth": 0,
              "ticks": ""
             }
            },
            "type": "parcoords"
           }
          ],
          "pie": [
           {
            "automargin": true,
            "type": "pie"
           }
          ],
          "scatter": [
           {
            "fillpattern": {
             "fillmode": "overlay",
             "size": 10,
             "solidity": 0.2
            },
            "type": "scatter"
           }
          ],
          "scatter3d": [
           {
            "line": {
             "colorbar": {
              "outlinewidth": 0,
              "ticks": ""
             }
            },
            "marker": {
             "colorbar": {
              "outlinewidth": 0,
              "ticks": ""
             }
            },
            "type": "scatter3d"
           }
          ],
          "scattercarpet": [
           {
            "marker": {
             "colorbar": {
              "outlinewidth": 0,
              "ticks": ""
             }
            },
            "type": "scattercarpet"
           }
          ],
          "scattergeo": [
           {
            "marker": {
             "colorbar": {
              "outlinewidth": 0,
              "ticks": ""
             }
            },
            "type": "scattergeo"
           }
          ],
          "scattergl": [
           {
            "marker": {
             "colorbar": {
              "outlinewidth": 0,
              "ticks": ""
             }
            },
            "type": "scattergl"
           }
          ],
          "scattermap": [
           {
            "marker": {
             "colorbar": {
              "outlinewidth": 0,
              "ticks": ""
             }
            },
            "type": "scattermap"
           }
          ],
          "scattermapbox": [
           {
            "marker": {
             "colorbar": {
              "outlinewidth": 0,
              "ticks": ""
             }
            },
            "type": "scattermapbox"
           }
          ],
          "scatterpolar": [
           {
            "marker": {
             "colorbar": {
              "outlinewidth": 0,
              "ticks": ""
             }
            },
            "type": "scatterpolar"
           }
          ],
          "scatterpolargl": [
           {
            "marker": {
             "colorbar": {
              "outlinewidth": 0,
              "ticks": ""
             }
            },
            "type": "scatterpolargl"
           }
          ],
          "scatterternary": [
           {
            "marker": {
             "colorbar": {
              "outlinewidth": 0,
              "ticks": ""
             }
            },
            "type": "scatterternary"
           }
          ],
          "surface": [
           {
            "colorbar": {
             "outlinewidth": 0,
             "ticks": ""
            },
            "colorscale": [
             [
              0,
              "#0d0887"
             ],
             [
              0.1111111111111111,
              "#46039f"
             ],
             [
              0.2222222222222222,
              "#7201a8"
             ],
             [
              0.3333333333333333,
              "#9c179e"
             ],
             [
              0.4444444444444444,
              "#bd3786"
             ],
             [
              0.5555555555555556,
              "#d8576b"
             ],
             [
              0.6666666666666666,
              "#ed7953"
             ],
             [
              0.7777777777777778,
              "#fb9f3a"
             ],
             [
              0.8888888888888888,
              "#fdca26"
             ],
             [
              1,
              "#f0f921"
             ]
            ],
            "type": "surface"
           }
          ],
          "table": [
           {
            "cells": {
             "fill": {
              "color": "#EBF0F8"
             },
             "line": {
              "color": "white"
             }
            },
            "header": {
             "fill": {
              "color": "#C8D4E3"
             },
             "line": {
              "color": "white"
             }
            },
            "type": "table"
           }
          ]
         },
         "layout": {
          "annotationdefaults": {
           "arrowcolor": "#2a3f5f",
           "arrowhead": 0,
           "arrowwidth": 1
          },
          "autotypenumbers": "strict",
          "coloraxis": {
           "colorbar": {
            "outlinewidth": 0,
            "ticks": ""
           }
          },
          "colorscale": {
           "diverging": [
            [
             0,
             "#8e0152"
            ],
            [
             0.1,
             "#c51b7d"
            ],
            [
             0.2,
             "#de77ae"
            ],
            [
             0.3,
             "#f1b6da"
            ],
            [
             0.4,
             "#fde0ef"
            ],
            [
             0.5,
             "#f7f7f7"
            ],
            [
             0.6,
             "#e6f5d0"
            ],
            [
             0.7,
             "#b8e186"
            ],
            [
             0.8,
             "#7fbc41"
            ],
            [
             0.9,
             "#4d9221"
            ],
            [
             1,
             "#276419"
            ]
           ],
           "sequential": [
            [
             0,
             "#0d0887"
            ],
            [
             0.1111111111111111,
             "#46039f"
            ],
            [
             0.2222222222222222,
             "#7201a8"
            ],
            [
             0.3333333333333333,
             "#9c179e"
            ],
            [
             0.4444444444444444,
             "#bd3786"
            ],
            [
             0.5555555555555556,
             "#d8576b"
            ],
            [
             0.6666666666666666,
             "#ed7953"
            ],
            [
             0.7777777777777778,
             "#fb9f3a"
            ],
            [
             0.8888888888888888,
             "#fdca26"
            ],
            [
             1,
             "#f0f921"
            ]
           ],
           "sequentialminus": [
            [
             0,
             "#0d0887"
            ],
            [
             0.1111111111111111,
             "#46039f"
            ],
            [
             0.2222222222222222,
             "#7201a8"
            ],
            [
             0.3333333333333333,
             "#9c179e"
            ],
            [
             0.4444444444444444,
             "#bd3786"
            ],
            [
             0.5555555555555556,
             "#d8576b"
            ],
            [
             0.6666666666666666,
             "#ed7953"
            ],
            [
             0.7777777777777778,
             "#fb9f3a"
            ],
            [
             0.8888888888888888,
             "#fdca26"
            ],
            [
             1,
             "#f0f921"
            ]
           ]
          },
          "colorway": [
           "#636efa",
           "#EF553B",
           "#00cc96",
           "#ab63fa",
           "#FFA15A",
           "#19d3f3",
           "#FF6692",
           "#B6E880",
           "#FF97FF",
           "#FECB52"
          ],
          "font": {
           "color": "#2a3f5f"
          },
          "geo": {
           "bgcolor": "white",
           "lakecolor": "white",
           "landcolor": "#E5ECF6",
           "showlakes": true,
           "showland": true,
           "subunitcolor": "white"
          },
          "hoverlabel": {
           "align": "left"
          },
          "hovermode": "closest",
          "mapbox": {
           "style": "light"
          },
          "paper_bgcolor": "white",
          "plot_bgcolor": "#E5ECF6",
          "polar": {
           "angularaxis": {
            "gridcolor": "white",
            "linecolor": "white",
            "ticks": ""
           },
           "bgcolor": "#E5ECF6",
           "radialaxis": {
            "gridcolor": "white",
            "linecolor": "white",
            "ticks": ""
           }
          },
          "scene": {
           "xaxis": {
            "backgroundcolor": "#E5ECF6",
            "gridcolor": "white",
            "gridwidth": 2,
            "linecolor": "white",
            "showbackground": true,
            "ticks": "",
            "zerolinecolor": "white"
           },
           "yaxis": {
            "backgroundcolor": "#E5ECF6",
            "gridcolor": "white",
            "gridwidth": 2,
            "linecolor": "white",
            "showbackground": true,
            "ticks": "",
            "zerolinecolor": "white"
           },
           "zaxis": {
            "backgroundcolor": "#E5ECF6",
            "gridcolor": "white",
            "gridwidth": 2,
            "linecolor": "white",
            "showbackground": true,
            "ticks": "",
            "zerolinecolor": "white"
           }
          },
          "shapedefaults": {
           "line": {
            "color": "#2a3f5f"
           }
          },
          "ternary": {
           "aaxis": {
            "gridcolor": "white",
            "linecolor": "white",
            "ticks": ""
           },
           "baxis": {
            "gridcolor": "white",
            "linecolor": "white",
            "ticks": ""
           },
           "bgcolor": "#E5ECF6",
           "caxis": {
            "gridcolor": "white",
            "linecolor": "white",
            "ticks": ""
           }
          },
          "title": {
           "x": 0.05
          },
          "xaxis": {
           "automargin": true,
           "gridcolor": "white",
           "linecolor": "white",
           "ticks": "",
           "title": {
            "standoff": 15
           },
           "zerolinecolor": "white",
           "zerolinewidth": 2
          },
          "yaxis": {
           "automargin": true,
           "gridcolor": "white",
           "linecolor": "white",
           "ticks": "",
           "title": {
            "standoff": 15
           },
           "zerolinecolor": "white",
           "zerolinewidth": 2
          }
         }
        },
        "title": {
         "text": "서비스 이용기간 분포"
        },
        "xaxis": {
         "anchor": "y",
         "domain": [
          0,
          1
         ],
         "title": {
          "text": "Service Period (days)"
         }
        },
        "yaxis": {
         "anchor": "x",
         "domain": [
          0,
          1
         ],
         "title": {
          "text": "Count"
         }
        }
       }
      }
     },
     "metadata": {},
     "output_type": "display_data"
    }
   ],
   "source": [
    "import plotly.express as px\n",
    "\n",
    "# 히스토그램 그리기\n",
    "fig = px.histogram(visit_group, \n",
    "                   x='service_period', \n",
    "                   nbins=20,               # 막대 개수 설정\n",
    "                   color_discrete_sequence=['royalblue'])  # 색상 설정 (선택사항)\n",
    "\n",
    "fig.update_layout(\n",
    "    title='서비스 이용기간 분포',\n",
    "    xaxis_title='Service Period (days)',\n",
    "    yaxis_title='Count'\n",
    ")\n",
    "\n",
    "fig.show()\n"
   ]
  },
  {
   "cell_type": "markdown",
   "id": "e8f4926a",
   "metadata": {},
   "source": [
    "---\n",
    "# Q5. quantity 상위 5개 product 확인"
   ]
  },
  {
   "cell_type": "code",
   "execution_count": 13,
   "id": "b488ee6c",
   "metadata": {},
   "outputs": [
    {
     "name": "stdout",
     "output_type": "stream",
     "text": [
      "Variable             Type         Data/Info\n",
      "-------------------------------------------\n",
      "order_df             DataFrame    Shape: (5000, 7)\n",
      "order_df_drop        DataFrame    Shape: (3738, 7)\n",
      "visit_df             DataFrame    Shape: (2219, 4)\n",
      "visit_group          DataFrame    Shape: (719, 4)\n",
      "visit_group_sorted   DataFrame    Shape: (719, 4)\n",
      "visit_summary        DataFrame    Shape: (719, 3)\n"
     ]
    }
   ],
   "source": [
    "%whos DataFrame\n"
   ]
  },
  {
   "cell_type": "code",
   "execution_count": 14,
   "id": "c59a3a00",
   "metadata": {},
   "outputs": [
    {
     "data": {
      "text/html": [
       "<div>\n",
       "<style scoped>\n",
       "    .dataframe tbody tr th:only-of-type {\n",
       "        vertical-align: middle;\n",
       "    }\n",
       "\n",
       "    .dataframe tbody tr th {\n",
       "        vertical-align: top;\n",
       "    }\n",
       "\n",
       "    .dataframe thead th {\n",
       "        text-align: right;\n",
       "    }\n",
       "</style>\n",
       "<table border=\"1\" class=\"dataframe\">\n",
       "  <thead>\n",
       "    <tr style=\"text-align: right;\">\n",
       "      <th></th>\n",
       "      <th>product_id</th>\n",
       "      <th>quantity</th>\n",
       "    </tr>\n",
       "  </thead>\n",
       "  <tbody>\n",
       "    <tr>\n",
       "      <th>0</th>\n",
       "      <td>1.0</td>\n",
       "      <td>3285.0</td>\n",
       "    </tr>\n",
       "    <tr>\n",
       "      <th>1</th>\n",
       "      <td>2.0</td>\n",
       "      <td>963.0</td>\n",
       "    </tr>\n",
       "    <tr>\n",
       "      <th>2</th>\n",
       "      <td>3.0</td>\n",
       "      <td>1626.0</td>\n",
       "    </tr>\n",
       "    <tr>\n",
       "      <th>3</th>\n",
       "      <td>4.0</td>\n",
       "      <td>1361.0</td>\n",
       "    </tr>\n",
       "    <tr>\n",
       "      <th>4</th>\n",
       "      <td>5.0</td>\n",
       "      <td>1745.0</td>\n",
       "    </tr>\n",
       "    <tr>\n",
       "      <th>5</th>\n",
       "      <td>6.0</td>\n",
       "      <td>1844.0</td>\n",
       "    </tr>\n",
       "    <tr>\n",
       "      <th>6</th>\n",
       "      <td>7.0</td>\n",
       "      <td>4702.0</td>\n",
       "    </tr>\n",
       "    <tr>\n",
       "      <th>7</th>\n",
       "      <td>8.0</td>\n",
       "      <td>1406.0</td>\n",
       "    </tr>\n",
       "    <tr>\n",
       "      <th>8</th>\n",
       "      <td>9.0</td>\n",
       "      <td>2765.0</td>\n",
       "    </tr>\n",
       "    <tr>\n",
       "      <th>9</th>\n",
       "      <td>10.0</td>\n",
       "      <td>902.0</td>\n",
       "    </tr>\n",
       "    <tr>\n",
       "      <th>10</th>\n",
       "      <td>11.0</td>\n",
       "      <td>1785.0</td>\n",
       "    </tr>\n",
       "    <tr>\n",
       "      <th>11</th>\n",
       "      <td>12.0</td>\n",
       "      <td>649.0</td>\n",
       "    </tr>\n",
       "    <tr>\n",
       "      <th>12</th>\n",
       "      <td>13.0</td>\n",
       "      <td>1781.0</td>\n",
       "    </tr>\n",
       "    <tr>\n",
       "      <th>13</th>\n",
       "      <td>14.0</td>\n",
       "      <td>488.0</td>\n",
       "    </tr>\n",
       "    <tr>\n",
       "      <th>14</th>\n",
       "      <td>15.0</td>\n",
       "      <td>1808.0</td>\n",
       "    </tr>\n",
       "    <tr>\n",
       "      <th>15</th>\n",
       "      <td>16.0</td>\n",
       "      <td>655.0</td>\n",
       "    </tr>\n",
       "    <tr>\n",
       "      <th>16</th>\n",
       "      <td>17.0</td>\n",
       "      <td>1408.0</td>\n",
       "    </tr>\n",
       "    <tr>\n",
       "      <th>17</th>\n",
       "      <td>18.0</td>\n",
       "      <td>925.0</td>\n",
       "    </tr>\n",
       "    <tr>\n",
       "      <th>18</th>\n",
       "      <td>19.0</td>\n",
       "      <td>1812.0</td>\n",
       "    </tr>\n",
       "    <tr>\n",
       "      <th>19</th>\n",
       "      <td>20.0</td>\n",
       "      <td>6871.0</td>\n",
       "    </tr>\n",
       "  </tbody>\n",
       "</table>\n",
       "</div>"
      ],
      "text/plain": [
       "    product_id  quantity\n",
       "0          1.0    3285.0\n",
       "1          2.0     963.0\n",
       "2          3.0    1626.0\n",
       "3          4.0    1361.0\n",
       "4          5.0    1745.0\n",
       "5          6.0    1844.0\n",
       "6          7.0    4702.0\n",
       "7          8.0    1406.0\n",
       "8          9.0    2765.0\n",
       "9         10.0     902.0\n",
       "10        11.0    1785.0\n",
       "11        12.0     649.0\n",
       "12        13.0    1781.0\n",
       "13        14.0     488.0\n",
       "14        15.0    1808.0\n",
       "15        16.0     655.0\n",
       "16        17.0    1408.0\n",
       "17        18.0     925.0\n",
       "18        19.0    1812.0\n",
       "19        20.0    6871.0"
      ]
     },
     "metadata": {},
     "output_type": "display_data"
    }
   ],
   "source": [
    "# Q5. product_id별 quantity 합계 집계\n",
    "product_quantity = order_df.groupby('product_id')['quantity'].sum().reset_index()\n",
    "\n",
    "# 결과 출력\n",
    "display(product_quantity)\n"
   ]
  },
  {
   "cell_type": "code",
   "execution_count": 15,
   "id": "42690fe7",
   "metadata": {},
   "outputs": [
    {
     "data": {
      "text/html": [
       "<div>\n",
       "<style scoped>\n",
       "    .dataframe tbody tr th:only-of-type {\n",
       "        vertical-align: middle;\n",
       "    }\n",
       "\n",
       "    .dataframe tbody tr th {\n",
       "        vertical-align: top;\n",
       "    }\n",
       "\n",
       "    .dataframe thead th {\n",
       "        text-align: right;\n",
       "    }\n",
       "</style>\n",
       "<table border=\"1\" class=\"dataframe\">\n",
       "  <thead>\n",
       "    <tr style=\"text-align: right;\">\n",
       "      <th></th>\n",
       "      <th>product_id</th>\n",
       "      <th>quantity</th>\n",
       "    </tr>\n",
       "  </thead>\n",
       "  <tbody>\n",
       "    <tr>\n",
       "      <th>19</th>\n",
       "      <td>20.0</td>\n",
       "      <td>6871.0</td>\n",
       "    </tr>\n",
       "    <tr>\n",
       "      <th>6</th>\n",
       "      <td>7.0</td>\n",
       "      <td>4702.0</td>\n",
       "    </tr>\n",
       "    <tr>\n",
       "      <th>0</th>\n",
       "      <td>1.0</td>\n",
       "      <td>3285.0</td>\n",
       "    </tr>\n",
       "    <tr>\n",
       "      <th>8</th>\n",
       "      <td>9.0</td>\n",
       "      <td>2765.0</td>\n",
       "    </tr>\n",
       "    <tr>\n",
       "      <th>5</th>\n",
       "      <td>6.0</td>\n",
       "      <td>1844.0</td>\n",
       "    </tr>\n",
       "  </tbody>\n",
       "</table>\n",
       "</div>"
      ],
      "text/plain": [
       "    product_id  quantity\n",
       "19        20.0    6871.0\n",
       "6          7.0    4702.0\n",
       "0          1.0    3285.0\n",
       "8          9.0    2765.0\n",
       "5          6.0    1844.0"
      ]
     },
     "metadata": {},
     "output_type": "display_data"
    }
   ],
   "source": [
    "# quantity 상위 5개 제품 추출\n",
    "top5_product = product_quantity.sort_values(by='quantity', ascending=False).head(5)\n",
    "\n",
    "# 결과 출력\n",
    "display(top5_product)\n"
   ]
  },
  {
   "cell_type": "code",
   "execution_count": 17,
   "id": "5791cf3d",
   "metadata": {},
   "outputs": [
    {
     "data": {
      "image/png": "[encoded data removed]",
      "text/plain": [
       "<Figure size 700x700 with 1 Axes>"
      ]
     },
     "metadata": {},
     "output_type": "display_data"
    }
   ],
   "source": [
    "import matplotlib.pyplot as plt\n",
    "\n",
    "# 데이터 준비 (top5_product: 앞에서 만든 top 5 DataFrame)\n",
    "labels = top5_product['product_id'].astype(int).astype(str)  # 정수형으로 바꾸고 문자열로 변환 (ex. 20, 7 등)\n",
    "sizes = top5_product['quantity']\n",
    "title = \"Quantity top5 product\"\n",
    "\n",
    "# 파이차트 그리기\n",
    "plt.figure(figsize=(7, 7))\n",
    "plt.pie(sizes, labels=labels, autopct='%1.1f%%', startangle=90)\n",
    "plt.title(title)\n",
    "plt.axis('equal')  # 원형 유지\n",
    "plt.show()\n"
   ]
  },
  {
   "cell_type": "markdown",
   "id": "b446d0b2",
   "metadata": {},
   "source": [
    "---\n",
    "# Q6. 분류별 발생건수 집계"
   ]
  },
  {
   "cell_type": "code",
   "execution_count": 4,
   "id": "2862dab6",
   "metadata": {},
   "outputs": [
    {
     "name": "stdout",
     "output_type": "stream",
     "text": [
      "본부명  상위 5개\n"
     ]
    },
    {
     "data": {
      "text/html": [
       "<div>\n",
       "<style scoped>\n",
       "    .dataframe tbody tr th:only-of-type {\n",
       "        vertical-align: middle;\n",
       "    }\n",
       "\n",
       "    .dataframe tbody tr th {\n",
       "        vertical-align: top;\n",
       "    }\n",
       "\n",
       "    .dataframe thead th {\n",
       "        text-align: right;\n",
       "    }\n",
       "</style>\n",
       "<table border=\"1\" class=\"dataframe\">\n",
       "  <thead>\n",
       "    <tr style=\"text-align: right;\">\n",
       "      <th></th>\n",
       "      <th>본부명</th>\n",
       "      <th>발생건수</th>\n",
       "    </tr>\n",
       "  </thead>\n",
       "  <tbody>\n",
       "    <tr>\n",
       "      <th>0</th>\n",
       "      <td>충북</td>\n",
       "      <td>22</td>\n",
       "    </tr>\n",
       "    <tr>\n",
       "      <th>1</th>\n",
       "      <td>대전충남</td>\n",
       "      <td>19</td>\n",
       "    </tr>\n",
       "    <tr>\n",
       "      <th>2</th>\n",
       "      <td>전북</td>\n",
       "      <td>14</td>\n",
       "    </tr>\n",
       "    <tr>\n",
       "      <th>3</th>\n",
       "      <td>강원</td>\n",
       "      <td>11</td>\n",
       "    </tr>\n",
       "    <tr>\n",
       "      <th>4</th>\n",
       "      <td>광주전남</td>\n",
       "      <td>11</td>\n",
       "    </tr>\n",
       "  </tbody>\n",
       "</table>\n",
       "</div>"
      ],
      "text/plain": [
       "    본부명  발생건수\n",
       "0    충북    22\n",
       "1  대전충남    19\n",
       "2    전북    14\n",
       "3    강원    11\n",
       "4  광주전남    11"
      ]
     },
     "metadata": {},
     "output_type": "display_data"
    },
    {
     "name": "stdout",
     "output_type": "stream",
     "text": [
      "\n",
      "지사명  상위 5개\n"
     ]
    },
    {
     "data": {
      "text/html": [
       "<div>\n",
       "<style scoped>\n",
       "    .dataframe tbody tr th:only-of-type {\n",
       "        vertical-align: middle;\n",
       "    }\n",
       "\n",
       "    .dataframe tbody tr th {\n",
       "        vertical-align: top;\n",
       "    }\n",
       "\n",
       "    .dataframe thead th {\n",
       "        text-align: right;\n",
       "    }\n",
       "</style>\n",
       "<table border=\"1\" class=\"dataframe\">\n",
       "  <thead>\n",
       "    <tr style=\"text-align: right;\">\n",
       "      <th></th>\n",
       "      <th>지사명</th>\n",
       "      <th>발생건수</th>\n",
       "    </tr>\n",
       "  </thead>\n",
       "  <tbody>\n",
       "    <tr>\n",
       "      <th>0</th>\n",
       "      <td>진천</td>\n",
       "      <td>12</td>\n",
       "    </tr>\n",
       "    <tr>\n",
       "      <th>1</th>\n",
       "      <td>부안</td>\n",
       "      <td>9</td>\n",
       "    </tr>\n",
       "    <tr>\n",
       "      <th>2</th>\n",
       "      <td>함평</td>\n",
       "      <td>8</td>\n",
       "    </tr>\n",
       "    <tr>\n",
       "      <th>3</th>\n",
       "      <td>부여</td>\n",
       "      <td>6</td>\n",
       "    </tr>\n",
       "    <tr>\n",
       "      <th>4</th>\n",
       "      <td>제천</td>\n",
       "      <td>5</td>\n",
       "    </tr>\n",
       "  </tbody>\n",
       "</table>\n",
       "</div>"
      ],
      "text/plain": [
       "  지사명  발생건수\n",
       "0  진천    12\n",
       "1  부안     9\n",
       "2  함평     8\n",
       "3  부여     6\n",
       "4  제천     5"
      ]
     },
     "metadata": {},
     "output_type": "display_data"
    },
    {
     "name": "stdout",
     "output_type": "stream",
     "text": [
      "\n",
      "노선명  상위 5개\n"
     ]
    },
    {
     "data": {
      "text/html": [
       "<div>\n",
       "<style scoped>\n",
       "    .dataframe tbody tr th:only-of-type {\n",
       "        vertical-align: middle;\n",
       "    }\n",
       "\n",
       "    .dataframe tbody tr th {\n",
       "        vertical-align: top;\n",
       "    }\n",
       "\n",
       "    .dataframe thead th {\n",
       "        text-align: right;\n",
       "    }\n",
       "</style>\n",
       "<table border=\"1\" class=\"dataframe\">\n",
       "  <thead>\n",
       "    <tr style=\"text-align: right;\">\n",
       "      <th></th>\n",
       "      <th>노선명</th>\n",
       "      <th>발생건수</th>\n",
       "    </tr>\n",
       "  </thead>\n",
       "  <tbody>\n",
       "    <tr>\n",
       "      <th>0</th>\n",
       "      <td>중부선</td>\n",
       "      <td>23</td>\n",
       "    </tr>\n",
       "    <tr>\n",
       "      <th>1</th>\n",
       "      <td>서해안선</td>\n",
       "      <td>17</td>\n",
       "    </tr>\n",
       "    <tr>\n",
       "      <th>2</th>\n",
       "      <td>당진대전선</td>\n",
       "      <td>7</td>\n",
       "    </tr>\n",
       "    <tr>\n",
       "      <th>3</th>\n",
       "      <td>서천공주선</td>\n",
       "      <td>6</td>\n",
       "    </tr>\n",
       "    <tr>\n",
       "      <th>4</th>\n",
       "      <td>영동선</td>\n",
       "      <td>4</td>\n",
       "    </tr>\n",
       "  </tbody>\n",
       "</table>\n",
       "</div>"
      ],
      "text/plain": [
       "     노선명  발생건수\n",
       "0    중부선    23\n",
       "1   서해안선    17\n",
       "2  당진대전선     7\n",
       "3  서천공주선     6\n",
       "4    영동선     4"
      ]
     },
     "metadata": {},
     "output_type": "display_data"
    }
   ],
   "source": [
    "import pandas as pd\n",
    "\n",
    "# 1) 데이터 로드\n",
    "df = pd.read_csv('./data_2/한국도로공사_로드킬 데이터 정보_20231231.csv', encoding='cp949')\n",
    "\n",
    "# 혹시 모를 공백/결측치 정리\n",
    "df.columns = df.columns.str.strip()\n",
    "for col in ['본부명', '지사명', '노선명']:\n",
    "    if col in df.columns:\n",
    "        df[col] = df[col].astype(str).str.strip().fillna('미상')\n",
    "\n",
    "# 2) 공용 집계 함수: 특정 컬럼으로 사건 수 세고 상위 5개\n",
    "def top5_counts(col):\n",
    "    return (\n",
    "        df.groupby(col)\n",
    "          .size()\n",
    "          .reset_index(name='발생건수')\n",
    "          .sort_values('발생건수', ascending=False)\n",
    "          .head(5)\n",
    "          .reset_index(drop=True)\n",
    "    )\n",
    "\n",
    "# 3) 각 분류별 상위 5개\n",
    "top5_head = top5_counts('본부명')\n",
    "top5_branch = top5_counts('지사명')\n",
    "top5_route = top5_counts('노선명')\n",
    "\n",
    "# 4) 보기 좋게 출력\n",
    "print('본부명  상위 5개')\n",
    "display(top5_head)\n",
    "\n",
    "print('\\n지사명  상위 5개')\n",
    "display(top5_branch)\n",
    "\n",
    "print('\\n노선명  상위 5개')\n",
    "display(top5_route)\n"
   ]
  },
  {
   "cell_type": "markdown",
   "id": "23cca09a",
   "metadata": {},
   "source": [
    "---\n",
    "# Q7. 함수 선언 - 데이터 검색"
   ]
  },
  {
   "cell_type": "code",
   "execution_count": 5,
   "id": "cff70920",
   "metadata": {},
   "outputs": [
    {
     "data": {
      "text/html": [
       "<div>\n",
       "<style scoped>\n",
       "    .dataframe tbody tr th:only-of-type {\n",
       "        vertical-align: middle;\n",
       "    }\n",
       "\n",
       "    .dataframe tbody tr th {\n",
       "        vertical-align: top;\n",
       "    }\n",
       "\n",
       "    .dataframe thead th {\n",
       "        text-align: right;\n",
       "    }\n",
       "</style>\n",
       "<table border=\"1\" class=\"dataframe\">\n",
       "  <thead>\n",
       "    <tr style=\"text-align: right;\">\n",
       "      <th></th>\n",
       "      <th>본부명</th>\n",
       "      <th>지사명</th>\n",
       "      <th>노선명</th>\n",
       "      <th>구간</th>\n",
       "      <th>방향</th>\n",
       "      <th>5km</th>\n",
       "      <th>발생건수</th>\n",
       "      <th>위도</th>\n",
       "      <th>경도</th>\n",
       "    </tr>\n",
       "  </thead>\n",
       "  <tbody>\n",
       "    <tr>\n",
       "      <th>0</th>\n",
       "      <td>서울경기</td>\n",
       "      <td>화성</td>\n",
       "      <td>서해안선</td>\n",
       "      <td>310~315</td>\n",
       "      <td>목포</td>\n",
       "      <td>310</td>\n",
       "      <td>3</td>\n",
       "      <td>37.217471</td>\n",
       "      <td>126.871994</td>\n",
       "    </tr>\n",
       "    <tr>\n",
       "      <th>1</th>\n",
       "      <td>서울경기</td>\n",
       "      <td>화성</td>\n",
       "      <td>서해안선</td>\n",
       "      <td>310~315</td>\n",
       "      <td>서울</td>\n",
       "      <td>310</td>\n",
       "      <td>3</td>\n",
       "      <td>37.217471</td>\n",
       "      <td>126.871994</td>\n",
       "    </tr>\n",
       "    <tr>\n",
       "      <th>2</th>\n",
       "      <td>서울경기</td>\n",
       "      <td>시흥</td>\n",
       "      <td>수도권제1순환선</td>\n",
       "      <td>100~105</td>\n",
       "      <td>판교</td>\n",
       "      <td>100</td>\n",
       "      <td>4</td>\n",
       "      <td>37.419086</td>\n",
       "      <td>126.828963</td>\n",
       "    </tr>\n",
       "    <tr>\n",
       "      <th>3</th>\n",
       "      <td>서울경기</td>\n",
       "      <td>경기광주</td>\n",
       "      <td>중부선</td>\n",
       "      <td>325~330</td>\n",
       "      <td>통영</td>\n",
       "      <td>325</td>\n",
       "      <td>6</td>\n",
       "      <td>37.248957</td>\n",
       "      <td>127.421370</td>\n",
       "    </tr>\n",
       "    <tr>\n",
       "      <th>4</th>\n",
       "      <td>서울경기</td>\n",
       "      <td>경기광주</td>\n",
       "      <td>중부선</td>\n",
       "      <td>325~330</td>\n",
       "      <td>하남</td>\n",
       "      <td>325</td>\n",
       "      <td>3</td>\n",
       "      <td>37.248957</td>\n",
       "      <td>127.421370</td>\n",
       "    </tr>\n",
       "    <tr>\n",
       "      <th>...</th>\n",
       "      <td>...</td>\n",
       "      <td>...</td>\n",
       "      <td>...</td>\n",
       "      <td>...</td>\n",
       "      <td>...</td>\n",
       "      <td>...</td>\n",
       "      <td>...</td>\n",
       "      <td>...</td>\n",
       "      <td>...</td>\n",
       "    </tr>\n",
       "    <tr>\n",
       "      <th>82</th>\n",
       "      <td>광주전남</td>\n",
       "      <td>함평</td>\n",
       "      <td>서해안선</td>\n",
       "      <td>35~40</td>\n",
       "      <td>서울</td>\n",
       "      <td>35</td>\n",
       "      <td>3</td>\n",
       "      <td>35.109966</td>\n",
       "      <td>126.481287</td>\n",
       "    </tr>\n",
       "    <tr>\n",
       "      <th>83</th>\n",
       "      <td>광주전남</td>\n",
       "      <td>함평</td>\n",
       "      <td>서해안선</td>\n",
       "      <td>55~60</td>\n",
       "      <td>서울</td>\n",
       "      <td>55</td>\n",
       "      <td>3</td>\n",
       "      <td>35.273296</td>\n",
       "      <td>126.543684</td>\n",
       "    </tr>\n",
       "    <tr>\n",
       "      <th>84</th>\n",
       "      <td>대구경북</td>\n",
       "      <td>고령</td>\n",
       "      <td>광주대구선</td>\n",
       "      <td>165~170</td>\n",
       "      <td>광주</td>\n",
       "      <td>165</td>\n",
       "      <td>5</td>\n",
       "      <td>35.753698</td>\n",
       "      <td>128.359582</td>\n",
       "    </tr>\n",
       "    <tr>\n",
       "      <th>85</th>\n",
       "      <td>부산경남</td>\n",
       "      <td>창원</td>\n",
       "      <td>남해1지선</td>\n",
       "      <td>0~5</td>\n",
       "      <td>함안</td>\n",
       "      <td>0</td>\n",
       "      <td>3</td>\n",
       "      <td>35.271400</td>\n",
       "      <td>128.474403</td>\n",
       "    </tr>\n",
       "    <tr>\n",
       "      <th>86</th>\n",
       "      <td>부산경남</td>\n",
       "      <td>창원</td>\n",
       "      <td>남해선</td>\n",
       "      <td>130~135</td>\n",
       "      <td>부산</td>\n",
       "      <td>130</td>\n",
       "      <td>4</td>\n",
       "      <td>35.271766</td>\n",
       "      <td>128.658197</td>\n",
       "    </tr>\n",
       "  </tbody>\n",
       "</table>\n",
       "<p>87 rows × 9 columns</p>\n",
       "</div>"
      ],
      "text/plain": [
       "     본부명   지사명       노선명         구간  방향  5km  발생건수         위도          경도\n",
       "0   서울경기    화성      서해안선    310~315  목포  310     3  37.217471  126.871994\n",
       "1   서울경기    화성      서해안선    310~315  서울  310     3  37.217471  126.871994\n",
       "2   서울경기    시흥  수도권제1순환선    100~105  판교  100     4  37.419086  126.828963\n",
       "3   서울경기  경기광주       중부선    325~330  통영  325     6  37.248957  127.421370\n",
       "4   서울경기  경기광주       중부선    325~330  하남  325     3  37.248957  127.421370\n",
       "..   ...   ...       ...        ...  ..  ...   ...        ...         ...\n",
       "82  광주전남    함평      서해안선     35~40   서울   35     3  35.109966  126.481287\n",
       "83  광주전남    함평      서해안선     55~60   서울   55     3  35.273296  126.543684\n",
       "84  대구경북    고령     광주대구선   165~170   광주  165     5  35.753698  128.359582\n",
       "85  부산경남    창원     남해1지선       0~5   함안    0     3  35.271400  128.474403\n",
       "86  부산경남    창원       남해선   130~135   부산  130     4  35.271766  128.658197\n",
       "\n",
       "[87 rows x 9 columns]"
      ]
     },
     "metadata": {},
     "output_type": "display_data"
    }
   ],
   "source": [
    "\n",
    "import pandas as pd\n",
    "\n",
    "df = pd.read_csv('./data_2/한국도로공사_로드킬 데이터 정보_20231231.csv', encoding='cp949')\n",
    "display(df)"
   ]
  },
  {
   "cell_type": "code",
   "execution_count": 9,
   "id": "37fae05f",
   "metadata": {},
   "outputs": [],
   "source": [
    "def filter_func(data, branch_list, branch_col, sort_col):\n",
    "    # 지사명 리스트에 포함된 행만 필터링\n",
    "    for branch in branch_list:\n",
    "        print(f\"\\n▶ {branch} 지사 정보\")\n",
    "        \n",
    "        # 해당 지사 데이터만 추출\n",
    "        temp = data[data[branch_col] == branch]\n",
    "        \n",
    "        # 발생건수 기준 내림차순 정렬 후 상위 5개 출력\n",
    "        temp = temp.sort_values(by=sort_col, ascending=False).head(5)\n",
    "        \n",
    "        display(temp)\n"
   ]
  },
  {
   "cell_type": "code",
   "execution_count": 8,
   "id": "879bc4d9",
   "metadata": {},
   "outputs": [
    {
     "name": "stdout",
     "output_type": "stream",
     "text": [
      "\n",
      "▶ 화성 지사 정보\n"
     ]
    },
    {
     "data": {
      "text/html": [
       "<div>\n",
       "<style scoped>\n",
       "    .dataframe tbody tr th:only-of-type {\n",
       "        vertical-align: middle;\n",
       "    }\n",
       "\n",
       "    .dataframe tbody tr th {\n",
       "        vertical-align: top;\n",
       "    }\n",
       "\n",
       "    .dataframe thead th {\n",
       "        text-align: right;\n",
       "    }\n",
       "</style>\n",
       "<table border=\"1\" class=\"dataframe\">\n",
       "  <thead>\n",
       "    <tr style=\"text-align: right;\">\n",
       "      <th></th>\n",
       "      <th>본부명</th>\n",
       "      <th>지사명</th>\n",
       "      <th>노선명</th>\n",
       "      <th>구간</th>\n",
       "      <th>방향</th>\n",
       "      <th>5km</th>\n",
       "      <th>발생건수</th>\n",
       "      <th>위도</th>\n",
       "      <th>경도</th>\n",
       "    </tr>\n",
       "  </thead>\n",
       "  <tbody>\n",
       "    <tr>\n",
       "      <th>0</th>\n",
       "      <td>서울경기</td>\n",
       "      <td>화성</td>\n",
       "      <td>서해안선</td>\n",
       "      <td>310~315</td>\n",
       "      <td>목포</td>\n",
       "      <td>310</td>\n",
       "      <td>3</td>\n",
       "      <td>37.217471</td>\n",
       "      <td>126.871994</td>\n",
       "    </tr>\n",
       "    <tr>\n",
       "      <th>1</th>\n",
       "      <td>서울경기</td>\n",
       "      <td>화성</td>\n",
       "      <td>서해안선</td>\n",
       "      <td>310~315</td>\n",
       "      <td>서울</td>\n",
       "      <td>310</td>\n",
       "      <td>3</td>\n",
       "      <td>37.217471</td>\n",
       "      <td>126.871994</td>\n",
       "    </tr>\n",
       "  </tbody>\n",
       "</table>\n",
       "</div>"
      ],
      "text/plain": [
       "    본부명 지사명   노선명       구간  방향  5km  발생건수         위도          경도\n",
       "0  서울경기  화성  서해안선  310~315  목포  310     3  37.217471  126.871994\n",
       "1  서울경기  화성  서해안선  310~315  서울  310     3  37.217471  126.871994"
      ]
     },
     "metadata": {},
     "output_type": "display_data"
    },
    {
     "name": "stdout",
     "output_type": "stream",
     "text": [
      "\n",
      "▶ 시흥 지사 정보\n"
     ]
    },
    {
     "data": {
      "text/html": [
       "<div>\n",
       "<style scoped>\n",
       "    .dataframe tbody tr th:only-of-type {\n",
       "        vertical-align: middle;\n",
       "    }\n",
       "\n",
       "    .dataframe tbody tr th {\n",
       "        vertical-align: top;\n",
       "    }\n",
       "\n",
       "    .dataframe thead th {\n",
       "        text-align: right;\n",
       "    }\n",
       "</style>\n",
       "<table border=\"1\" class=\"dataframe\">\n",
       "  <thead>\n",
       "    <tr style=\"text-align: right;\">\n",
       "      <th></th>\n",
       "      <th>본부명</th>\n",
       "      <th>지사명</th>\n",
       "      <th>노선명</th>\n",
       "      <th>구간</th>\n",
       "      <th>방향</th>\n",
       "      <th>5km</th>\n",
       "      <th>발생건수</th>\n",
       "      <th>위도</th>\n",
       "      <th>경도</th>\n",
       "    </tr>\n",
       "  </thead>\n",
       "  <tbody>\n",
       "    <tr>\n",
       "      <th>2</th>\n",
       "      <td>서울경기</td>\n",
       "      <td>시흥</td>\n",
       "      <td>수도권제1순환선</td>\n",
       "      <td>100~105</td>\n",
       "      <td>판교</td>\n",
       "      <td>100</td>\n",
       "      <td>4</td>\n",
       "      <td>37.419086</td>\n",
       "      <td>126.828963</td>\n",
       "    </tr>\n",
       "  </tbody>\n",
       "</table>\n",
       "</div>"
      ],
      "text/plain": [
       "    본부명 지사명       노선명       구간  방향  5km  발생건수         위도          경도\n",
       "2  서울경기  시흥  수도권제1순환선  100~105  판교  100     4  37.419086  126.828963"
      ]
     },
     "metadata": {},
     "output_type": "display_data"
    },
    {
     "name": "stdout",
     "output_type": "stream",
     "text": [
      "\n",
      "▶ 경기광주 지사 정보\n"
     ]
    },
    {
     "data": {
      "text/html": [
       "<div>\n",
       "<style scoped>\n",
       "    .dataframe tbody tr th:only-of-type {\n",
       "        vertical-align: middle;\n",
       "    }\n",
       "\n",
       "    .dataframe tbody tr th {\n",
       "        vertical-align: top;\n",
       "    }\n",
       "\n",
       "    .dataframe thead th {\n",
       "        text-align: right;\n",
       "    }\n",
       "</style>\n",
       "<table border=\"1\" class=\"dataframe\">\n",
       "  <thead>\n",
       "    <tr style=\"text-align: right;\">\n",
       "      <th></th>\n",
       "      <th>본부명</th>\n",
       "      <th>지사명</th>\n",
       "      <th>노선명</th>\n",
       "      <th>구간</th>\n",
       "      <th>방향</th>\n",
       "      <th>5km</th>\n",
       "      <th>발생건수</th>\n",
       "      <th>위도</th>\n",
       "      <th>경도</th>\n",
       "    </tr>\n",
       "  </thead>\n",
       "  <tbody>\n",
       "    <tr>\n",
       "      <th>3</th>\n",
       "      <td>서울경기</td>\n",
       "      <td>경기광주</td>\n",
       "      <td>중부선</td>\n",
       "      <td>325~330</td>\n",
       "      <td>통영</td>\n",
       "      <td>325</td>\n",
       "      <td>6</td>\n",
       "      <td>37.248957</td>\n",
       "      <td>127.421370</td>\n",
       "    </tr>\n",
       "    <tr>\n",
       "      <th>4</th>\n",
       "      <td>서울경기</td>\n",
       "      <td>경기광주</td>\n",
       "      <td>중부선</td>\n",
       "      <td>325~330</td>\n",
       "      <td>하남</td>\n",
       "      <td>325</td>\n",
       "      <td>3</td>\n",
       "      <td>37.248957</td>\n",
       "      <td>127.421370</td>\n",
       "    </tr>\n",
       "    <tr>\n",
       "      <th>5</th>\n",
       "      <td>서울경기</td>\n",
       "      <td>경기광주</td>\n",
       "      <td>중부선</td>\n",
       "      <td>345~350</td>\n",
       "      <td>통영</td>\n",
       "      <td>345</td>\n",
       "      <td>3</td>\n",
       "      <td>37.397767</td>\n",
       "      <td>127.310793</td>\n",
       "    </tr>\n",
       "    <tr>\n",
       "      <th>6</th>\n",
       "      <td>서울경기</td>\n",
       "      <td>경기광주</td>\n",
       "      <td>중부선</td>\n",
       "      <td>320~325</td>\n",
       "      <td>통영</td>\n",
       "      <td>320</td>\n",
       "      <td>3</td>\n",
       "      <td>37.207765</td>\n",
       "      <td>127.442214</td>\n",
       "    </tr>\n",
       "  </tbody>\n",
       "</table>\n",
       "</div>"
      ],
      "text/plain": [
       "    본부명   지사명  노선명         구간  방향  5km  발생건수         위도          경도\n",
       "3  서울경기  경기광주  중부선    325~330  통영  325     6  37.248957  127.421370\n",
       "4  서울경기  경기광주  중부선    325~330  하남  325     3  37.248957  127.421370\n",
       "5  서울경기  경기광주  중부선    345~350  통영  345     3  37.397767  127.310793\n",
       "6  서울경기  경기광주  중부선   320~325   통영  320     3  37.207765  127.442214"
      ]
     },
     "metadata": {},
     "output_type": "display_data"
    }
   ],
   "source": [
    "filter_func(\n",
    "    data = df,\n",
    "    branch_list = ['화성', '시흥', '경기광주'],\n",
    "    branch_col = '지사명',\n",
    "    sort_col = '발생건수'\n",
    ")\n"
   ]
  },
  {
   "cell_type": "markdown",
   "id": "f2994800",
   "metadata": {},
   "source": [
    "---\n",
    "# Q8.서울본부 지사들의 발생건수 시각화"
   ]
  },
  {
   "cell_type": "code",
   "execution_count": null,
   "id": "0aa6301d",
   "metadata": {},
   "outputs": [
    {
     "name": "stdout",
     "output_type": "stream",
     "text": [
      "================ 서울경기 본부 정보입니다 =================\n"
     ]
    },
    {
     "data": {
      "text/html": [
       "<div>\n",
       "<style scoped>\n",
       "    .dataframe tbody tr th:only-of-type {\n",
       "        vertical-align: middle;\n",
       "    }\n",
       "\n",
       "    .dataframe tbody tr th {\n",
       "        vertical-align: top;\n",
       "    }\n",
       "\n",
       "    .dataframe thead th {\n",
       "        text-align: right;\n",
       "    }\n",
       "</style>\n",
       "<table border=\"1\" class=\"dataframe\">\n",
       "  <thead>\n",
       "    <tr style=\"text-align: right;\">\n",
       "      <th></th>\n",
       "      <th>본부명</th>\n",
       "      <th>지사명</th>\n",
       "      <th>노선명</th>\n",
       "      <th>구간</th>\n",
       "      <th>방향</th>\n",
       "      <th>5km</th>\n",
       "      <th>발생건수</th>\n",
       "      <th>위도</th>\n",
       "      <th>경도</th>\n",
       "    </tr>\n",
       "  </thead>\n",
       "  <tbody>\n",
       "    <tr>\n",
       "      <th>0</th>\n",
       "      <td>서울경기</td>\n",
       "      <td>화성</td>\n",
       "      <td>서해안선</td>\n",
       "      <td>310~315</td>\n",
       "      <td>목포</td>\n",
       "      <td>310</td>\n",
       "      <td>3</td>\n",
       "      <td>37.217471</td>\n",
       "      <td>126.871994</td>\n",
       "    </tr>\n",
       "    <tr>\n",
       "      <th>1</th>\n",
       "      <td>서울경기</td>\n",
       "      <td>화성</td>\n",
       "      <td>서해안선</td>\n",
       "      <td>310~315</td>\n",
       "      <td>서울</td>\n",
       "      <td>310</td>\n",
       "      <td>3</td>\n",
       "      <td>37.217471</td>\n",
       "      <td>126.871994</td>\n",
       "    </tr>\n",
       "    <tr>\n",
       "      <th>2</th>\n",
       "      <td>서울경기</td>\n",
       "      <td>시흥</td>\n",
       "      <td>수도권제1순환선</td>\n",
       "      <td>100~105</td>\n",
       "      <td>판교</td>\n",
       "      <td>100</td>\n",
       "      <td>4</td>\n",
       "      <td>37.419086</td>\n",
       "      <td>126.828963</td>\n",
       "    </tr>\n",
       "    <tr>\n",
       "      <th>3</th>\n",
       "      <td>서울경기</td>\n",
       "      <td>경기광주</td>\n",
       "      <td>중부선</td>\n",
       "      <td>325~330</td>\n",
       "      <td>통영</td>\n",
       "      <td>325</td>\n",
       "      <td>6</td>\n",
       "      <td>37.248957</td>\n",
       "      <td>127.421370</td>\n",
       "    </tr>\n",
       "    <tr>\n",
       "      <th>4</th>\n",
       "      <td>서울경기</td>\n",
       "      <td>경기광주</td>\n",
       "      <td>중부선</td>\n",
       "      <td>325~330</td>\n",
       "      <td>하남</td>\n",
       "      <td>325</td>\n",
       "      <td>3</td>\n",
       "      <td>37.248957</td>\n",
       "      <td>127.421370</td>\n",
       "    </tr>\n",
       "    <tr>\n",
       "      <th>5</th>\n",
       "      <td>서울경기</td>\n",
       "      <td>경기광주</td>\n",
       "      <td>중부선</td>\n",
       "      <td>345~350</td>\n",
       "      <td>통영</td>\n",
       "      <td>345</td>\n",
       "      <td>3</td>\n",
       "      <td>37.397767</td>\n",
       "      <td>127.310793</td>\n",
       "    </tr>\n",
       "    <tr>\n",
       "      <th>6</th>\n",
       "      <td>서울경기</td>\n",
       "      <td>경기광주</td>\n",
       "      <td>중부선</td>\n",
       "      <td>320~325</td>\n",
       "      <td>통영</td>\n",
       "      <td>320</td>\n",
       "      <td>3</td>\n",
       "      <td>37.207765</td>\n",
       "      <td>127.442214</td>\n",
       "    </tr>\n",
       "  </tbody>\n",
       "</table>\n",
       "</div>"
      ],
      "text/plain": [
       "    본부명   지사명       노선명         구간  방향  5km  발생건수         위도          경도\n",
       "0  서울경기    화성      서해안선    310~315  목포  310     3  37.217471  126.871994\n",
       "1  서울경기    화성      서해안선    310~315  서울  310     3  37.217471  126.871994\n",
       "2  서울경기    시흥  수도권제1순환선    100~105  판교  100     4  37.419086  126.828963\n",
       "3  서울경기  경기광주       중부선    325~330  통영  325     6  37.248957  127.421370\n",
       "4  서울경기  경기광주       중부선    325~330  하남  325     3  37.248957  127.421370\n",
       "5  서울경기  경기광주       중부선    345~350  통영  345     3  37.397767  127.310793\n",
       "6  서울경기  경기광주       중부선   320~325   통영  320     3  37.207765  127.442214"
      ]
     },
     "metadata": {},
     "output_type": "display_data"
    },
    {
     "name": "stdout",
     "output_type": "stream",
     "text": [
      "================ 서울경기 시각화 결과입니다 =================\n"
     ]
    },
    {
     "data": {
      "image/png": "[encoded data removed]",
      "text/plain": [
       "<Figure size 800x500 with 1 Axes>"
      ]
     },
     "metadata": {},
     "output_type": "display_data"
    }
   ],
   "source": [
    "import seaborn as sns\n",
    "import matplotlib.pyplot as plt\n",
    "\n",
    "# 한글 폰트/마이너스 깨짐 방지\n",
    "plt.rc('font', family='Malgun Gothic')\n",
    "plt.rcParams['axes.unicode_minus'] = False\n",
    "\n",
    "#본부 중 '서울경기' 데이터만 선택\n",
    "seoul = df[df['본부명'] == '서울경기'].copy()\n",
    "\n",
    "# 어떤 데이터가 선택됐는지 확인\n",
    "print('================ 서울경기 본부 정보입니다 =================')\n",
    "display(seoul)\n",
    "\n",
    "# 2) 지사별 발생건수 평균 집계 (seaborn 기본 집계=평균이지만, 정렬을 위해 미리 계산)\n",
    "agg = (seoul.groupby('지사명', as_index=False)['발생건수']\n",
    "            .mean()\n",
    "            .rename(columns={'발생건수': '발생건수(평균)'}))\n",
    "\n",
    "# 시각화 시 보기 좋게 내림차순 정렬 순서 지정\n",
    "order = agg.sort_values('발생건수(평균)', ascending=False)['지사명']\n",
    "\n",
    "# 3) 시각화 (기본 집계=평균)\n",
    "print('================ 서울경기 시각화 결과입니다 =================')\n",
    "plt.figure(figsize=(8,5))\n",
    "ax = sns.barplot(data=seoul, x='지사명', y='발생건수', order=order)  \n",
    "ax.set_xlabel('지사명')\n",
    "ax.set_ylabel('발생건수')\n",
    "ax.set_title('서울경기 본부 지사별 발생건수(평균)')\n",
    "\n",
    "# 막대 위에 값 라벨 표시\n",
    "for i, (name, val) in enumerate(agg.set_index('지사명').loc[order, '발생건수(평균)'].items()):\n",
    "    ax.text(i, val, f'{val:.1f}', ha='center', va='bottom')\n",
    "\n",
    "plt.tight_layout()\n",
    "plt.show()\n"
   ]
  },
  {
   "cell_type": "markdown",
   "id": "da5380da",
   "metadata": {},
   "source": [
    "# Q9. 함수 선언"
   ]
  },
  {
   "cell_type": "code",
   "execution_count": 11,
   "id": "8cc6e4fa",
   "metadata": {},
   "outputs": [
    {
     "name": "stdout",
     "output_type": "stream",
     "text": [
      "========================= 한국도로공사_로드킬 데이터 정보_20231231.csv 데이터입니다 =========================\n"
     ]
    },
    {
     "data": {
      "text/html": [
       "<div>\n",
       "<style scoped>\n",
       "    .dataframe tbody tr th:only-of-type {\n",
       "        vertical-align: middle;\n",
       "    }\n",
       "\n",
       "    .dataframe tbody tr th {\n",
       "        vertical-align: top;\n",
       "    }\n",
       "\n",
       "    .dataframe thead th {\n",
       "        text-align: right;\n",
       "    }\n",
       "</style>\n",
       "<table border=\"1\" class=\"dataframe\">\n",
       "  <thead>\n",
       "    <tr style=\"text-align: right;\">\n",
       "      <th></th>\n",
       "      <th>본부명</th>\n",
       "      <th>지사명</th>\n",
       "      <th>노선명</th>\n",
       "      <th>구간</th>\n",
       "      <th>방향</th>\n",
       "      <th>5km</th>\n",
       "      <th>발생건수</th>\n",
       "      <th>위도</th>\n",
       "      <th>경도</th>\n",
       "    </tr>\n",
       "  </thead>\n",
       "  <tbody>\n",
       "    <tr>\n",
       "      <th>0</th>\n",
       "      <td>서울경기</td>\n",
       "      <td>화성</td>\n",
       "      <td>서해안선</td>\n",
       "      <td>310~315</td>\n",
       "      <td>목포</td>\n",
       "      <td>310</td>\n",
       "      <td>3</td>\n",
       "      <td>37.217471</td>\n",
       "      <td>126.871994</td>\n",
       "    </tr>\n",
       "    <tr>\n",
       "      <th>1</th>\n",
       "      <td>서울경기</td>\n",
       "      <td>화성</td>\n",
       "      <td>서해안선</td>\n",
       "      <td>310~315</td>\n",
       "      <td>서울</td>\n",
       "      <td>310</td>\n",
       "      <td>3</td>\n",
       "      <td>37.217471</td>\n",
       "      <td>126.871994</td>\n",
       "    </tr>\n",
       "    <tr>\n",
       "      <th>2</th>\n",
       "      <td>서울경기</td>\n",
       "      <td>시흥</td>\n",
       "      <td>수도권제1순환선</td>\n",
       "      <td>100~105</td>\n",
       "      <td>판교</td>\n",
       "      <td>100</td>\n",
       "      <td>4</td>\n",
       "      <td>37.419086</td>\n",
       "      <td>126.828963</td>\n",
       "    </tr>\n",
       "    <tr>\n",
       "      <th>3</th>\n",
       "      <td>서울경기</td>\n",
       "      <td>경기광주</td>\n",
       "      <td>중부선</td>\n",
       "      <td>325~330</td>\n",
       "      <td>통영</td>\n",
       "      <td>325</td>\n",
       "      <td>6</td>\n",
       "      <td>37.248957</td>\n",
       "      <td>127.421370</td>\n",
       "    </tr>\n",
       "    <tr>\n",
       "      <th>4</th>\n",
       "      <td>서울경기</td>\n",
       "      <td>경기광주</td>\n",
       "      <td>중부선</td>\n",
       "      <td>325~330</td>\n",
       "      <td>하남</td>\n",
       "      <td>325</td>\n",
       "      <td>3</td>\n",
       "      <td>37.248957</td>\n",
       "      <td>127.421370</td>\n",
       "    </tr>\n",
       "    <tr>\n",
       "      <th>...</th>\n",
       "      <td>...</td>\n",
       "      <td>...</td>\n",
       "      <td>...</td>\n",
       "      <td>...</td>\n",
       "      <td>...</td>\n",
       "      <td>...</td>\n",
       "      <td>...</td>\n",
       "      <td>...</td>\n",
       "      <td>...</td>\n",
       "    </tr>\n",
       "    <tr>\n",
       "      <th>82</th>\n",
       "      <td>광주전남</td>\n",
       "      <td>함평</td>\n",
       "      <td>서해안선</td>\n",
       "      <td>35~40</td>\n",
       "      <td>서울</td>\n",
       "      <td>35</td>\n",
       "      <td>3</td>\n",
       "      <td>35.109966</td>\n",
       "      <td>126.481287</td>\n",
       "    </tr>\n",
       "    <tr>\n",
       "      <th>83</th>\n",
       "      <td>광주전남</td>\n",
       "      <td>함평</td>\n",
       "      <td>서해안선</td>\n",
       "      <td>55~60</td>\n",
       "      <td>서울</td>\n",
       "      <td>55</td>\n",
       "      <td>3</td>\n",
       "      <td>35.273296</td>\n",
       "      <td>126.543684</td>\n",
       "    </tr>\n",
       "    <tr>\n",
       "      <th>84</th>\n",
       "      <td>대구경북</td>\n",
       "      <td>고령</td>\n",
       "      <td>광주대구선</td>\n",
       "      <td>165~170</td>\n",
       "      <td>광주</td>\n",
       "      <td>165</td>\n",
       "      <td>5</td>\n",
       "      <td>35.753698</td>\n",
       "      <td>128.359582</td>\n",
       "    </tr>\n",
       "    <tr>\n",
       "      <th>85</th>\n",
       "      <td>부산경남</td>\n",
       "      <td>창원</td>\n",
       "      <td>남해1지선</td>\n",
       "      <td>0~5</td>\n",
       "      <td>함안</td>\n",
       "      <td>0</td>\n",
       "      <td>3</td>\n",
       "      <td>35.271400</td>\n",
       "      <td>128.474403</td>\n",
       "    </tr>\n",
       "    <tr>\n",
       "      <th>86</th>\n",
       "      <td>부산경남</td>\n",
       "      <td>창원</td>\n",
       "      <td>남해선</td>\n",
       "      <td>130~135</td>\n",
       "      <td>부산</td>\n",
       "      <td>130</td>\n",
       "      <td>4</td>\n",
       "      <td>35.271766</td>\n",
       "      <td>128.658197</td>\n",
       "    </tr>\n",
       "  </tbody>\n",
       "</table>\n",
       "<p>87 rows × 9 columns</p>\n",
       "</div>"
      ],
      "text/plain": [
       "     본부명   지사명       노선명         구간  방향  5km  발생건수         위도          경도\n",
       "0   서울경기    화성      서해안선    310~315  목포  310     3  37.217471  126.871994\n",
       "1   서울경기    화성      서해안선    310~315  서울  310     3  37.217471  126.871994\n",
       "2   서울경기    시흥  수도권제1순환선    100~105  판교  100     4  37.419086  126.828963\n",
       "3   서울경기  경기광주       중부선    325~330  통영  325     6  37.248957  127.421370\n",
       "4   서울경기  경기광주       중부선    325~330  하남  325     3  37.248957  127.421370\n",
       "..   ...   ...       ...        ...  ..  ...   ...        ...         ...\n",
       "82  광주전남    함평      서해안선     35~40   서울   35     3  35.109966  126.481287\n",
       "83  광주전남    함평      서해안선     55~60   서울   55     3  35.273296  126.543684\n",
       "84  대구경북    고령     광주대구선   165~170   광주  165     5  35.753698  128.359582\n",
       "85  부산경남    창원     남해1지선       0~5   함안    0     3  35.271400  128.474403\n",
       "86  부산경남    창원       남해선   130~135   부산  130     4  35.271766  128.658197\n",
       "\n",
       "[87 rows x 9 columns]"
      ]
     },
     "metadata": {},
     "output_type": "display_data"
    }
   ],
   "source": [
    "# 데이터 읽기 및 확인용 코드셀입니다. 참고용으로만 사용하셔도 괜찮습니다.\n",
    "\n",
    "import pandas as pd\n",
    "import seaborn as sns\n",
    "import matplotlib.pyplot as plt\n",
    "plt.rc('font', family='Malgun Gothic')\n",
    "\n",
    "print('='*25, '한국도로공사_로드킬 데이터 정보_20231231.csv 데이터입니다', '='*25)\n",
    "df = pd.read_csv('./data_2/한국도로공사_로드킬 데이터 정보_20231231.csv', encoding='cp949')\n",
    "\n",
    "display(df)"
   ]
  },
  {
   "cell_type": "code",
   "execution_count": 14,
   "id": "27f8e1cc",
   "metadata": {},
   "outputs": [],
   "source": [
    "import numpy as np\n",
    "import seaborn as sns\n",
    "import matplotlib.pyplot as plt\n",
    "\n",
    "plt.rc('font', family='Malgun Gothic')\n",
    "plt.rcParams['axes.unicode_minus'] = False\n",
    "\n",
    "def multi_center_bar_func(data, center_col, branch_col, accident_num_col, center_list):\n",
    "    \"\"\"입력받은 본부의 지사별 발생건수 평균을 bar 차트로 시각화\"\"\"\n",
    "    # 입력 루프\n",
    "    while True:\n",
    "        center = input(\"본부명을 입력하세요: \").strip()\n",
    "        if center in center_list:\n",
    "            break\n",
    "        print(f\"{center} 본부는 존재하지 않습니다.\\n다시 입력하세요\")\n",
    "\n",
    "    # 선택 본부 데이터\n",
    "    sub = data.loc[data[center_col] == center, [branch_col, accident_num_col]].copy()\n",
    "    print(f\"\\n{center} 본부 지사 정보\")\n",
    "    display(sub)\n",
    "\n",
    "    # 지사별 평균 집계 및 정렬 순서\n",
    "    order = (sub.groupby(branch_col)[accident_num_col]\n",
    "               .mean()\n",
    "               .sort_values(ascending=False)\n",
    "               .index)\n",
    "\n",
    "    # 시각화 (기본 집계=평균)\n",
    "    plt.figure(figsize=(7.5,5))\n",
    "    ax = sns.barplot(data=sub, x=branch_col, y=accident_num_col,\n",
    "                     estimator=np.mean, order=order)\n",
    "    ax.set_xlabel('지사명'); ax.set_ylabel('발생건수')\n",
    "    ax.set_title(f'{center} 본부 지사별 발생건수(평균)')\n",
    "\n",
    "    # 막대 위 라벨 + 전체 평균선\n",
    "    mean_map = sub.groupby(branch_col)[accident_num_col].mean().reindex(order)\n",
    "    for i, v in enumerate(mean_map):\n",
    "        ax.text(i, v, f'{v:.1f}', ha='center', va='bottom', fontsize=10)\n",
    "    overall_mean = mean_map.mean()\n",
    "    ax.axhline(overall_mean, ls='--', lw=1)\n",
    "    ax.text(len(order)-0.5, overall_mean, f'평균={overall_mean:.2f}', ha='right', va='bottom')\n",
    "\n",
    "    plt.tight_layout()\n",
    "    plt.show()\n"
   ]
  },
  {
   "cell_type": "code",
   "execution_count": 13,
   "id": "f5d87326",
   "metadata": {},
   "outputs": [
    {
     "name": "stdout",
     "output_type": "stream",
     "text": [
      " 본부는 존재하지 않습니다.\n",
      "다시 입력하세요\n",
      " 본부는 존재하지 않습니다.\n",
      "다시 입력하세요\n",
      " 본부는 존재하지 않습니다.\n",
      "다시 입력하세요\n",
      " 본부는 존재하지 않습니다.\n",
      "다시 입력하세요\n",
      " 본부는 존재하지 않습니다.\n",
      "다시 입력하세요\n",
      " 본부는 존재하지 않습니다.\n",
      "다시 입력하세요\n",
      " 본부는 존재하지 않습니다.\n",
      "다시 입력하세요\n",
      " 본부는 존재하지 않습니다.\n",
      "다시 입력하세요\n",
      " 본부는 존재하지 않습니다.\n",
      "다시 입력하세요\n",
      " 본부는 존재하지 않습니다.\n",
      "다시 입력하세요\n",
      " 본부는 존재하지 않습니다.\n",
      "다시 입력하세요\n",
      " 본부는 존재하지 않습니다.\n",
      "다시 입력하세요\n",
      "\n",
      "서울경기 본부 지사 정보\n"
     ]
    },
    {
     "data": {
      "text/html": [
       "<div>\n",
       "<style scoped>\n",
       "    .dataframe tbody tr th:only-of-type {\n",
       "        vertical-align: middle;\n",
       "    }\n",
       "\n",
       "    .dataframe tbody tr th {\n",
       "        vertical-align: top;\n",
       "    }\n",
       "\n",
       "    .dataframe thead th {\n",
       "        text-align: right;\n",
       "    }\n",
       "</style>\n",
       "<table border=\"1\" class=\"dataframe\">\n",
       "  <thead>\n",
       "    <tr style=\"text-align: right;\">\n",
       "      <th></th>\n",
       "      <th>지사명</th>\n",
       "      <th>발생건수</th>\n",
       "    </tr>\n",
       "  </thead>\n",
       "  <tbody>\n",
       "    <tr>\n",
       "      <th>0</th>\n",
       "      <td>화성</td>\n",
       "      <td>3</td>\n",
       "    </tr>\n",
       "    <tr>\n",
       "      <th>1</th>\n",
       "      <td>화성</td>\n",
       "      <td>3</td>\n",
       "    </tr>\n",
       "    <tr>\n",
       "      <th>2</th>\n",
       "      <td>시흥</td>\n",
       "      <td>4</td>\n",
       "    </tr>\n",
       "    <tr>\n",
       "      <th>3</th>\n",
       "      <td>경기광주</td>\n",
       "      <td>6</td>\n",
       "    </tr>\n",
       "    <tr>\n",
       "      <th>4</th>\n",
       "      <td>경기광주</td>\n",
       "      <td>3</td>\n",
       "    </tr>\n",
       "    <tr>\n",
       "      <th>5</th>\n",
       "      <td>경기광주</td>\n",
       "      <td>3</td>\n",
       "    </tr>\n",
       "    <tr>\n",
       "      <th>6</th>\n",
       "      <td>경기광주</td>\n",
       "      <td>3</td>\n",
       "    </tr>\n",
       "  </tbody>\n",
       "</table>\n",
       "</div>"
      ],
      "text/plain": [
       "    지사명  발생건수\n",
       "0    화성     3\n",
       "1    화성     3\n",
       "2    시흥     4\n",
       "3  경기광주     6\n",
       "4  경기광주     3\n",
       "5  경기광주     3\n",
       "6  경기광주     3"
      ]
     },
     "metadata": {},
     "output_type": "display_data"
    },
    {
     "data": {
      "image/png": "[encoded data removed]",
      "text/plain": [
       "<Figure size 750x500 with 1 Axes>"
      ]
     },
     "metadata": {},
     "output_type": "display_data"
    }
   ],
   "source": [
    "tmp_center_list = ['서울경기', '강원', '충북', '대전충남', '광주전남', '전북', '부산경남', '대구경북']\n",
    "\n",
    "multi_center_bar_func(\n",
    "    data=df,\n",
    "    center_col='본부명',\n",
    "    branch_col='지사명',\n",
    "    accident_num_col='발생건수',\n",
    "    center_list=tmp_center_list\n",
    ")\n"
   ]
  },
  {
   "cell_type": "markdown",
   "id": "ba947193",
   "metadata": {},
   "source": [
    "---\n",
    "# Q10. 지도 시각화 - 서울경기 본부 중 발생건수 가장 많은 지사"
   ]
  },
  {
   "cell_type": "code",
   "execution_count": 20,
   "id": "de31e3df",
   "metadata": {},
   "outputs": [
    {
     "name": "stdout",
     "output_type": "stream",
     "text": [
      "========================= 본부명 중에서 \"서울경기\"만 선택한 결과입니다. =========================\n"
     ]
    },
    {
     "data": {
      "text/html": [
       "<div>\n",
       "<style scoped>\n",
       "    .dataframe tbody tr th:only-of-type {\n",
       "        vertical-align: middle;\n",
       "    }\n",
       "\n",
       "    .dataframe tbody tr th {\n",
       "        vertical-align: top;\n",
       "    }\n",
       "\n",
       "    .dataframe thead th {\n",
       "        text-align: right;\n",
       "    }\n",
       "</style>\n",
       "<table border=\"1\" class=\"dataframe\">\n",
       "  <thead>\n",
       "    <tr style=\"text-align: right;\">\n",
       "      <th></th>\n",
       "      <th>본부명</th>\n",
       "      <th>지사명</th>\n",
       "      <th>노선명</th>\n",
       "      <th>구간</th>\n",
       "      <th>방향</th>\n",
       "      <th>5km</th>\n",
       "      <th>발생건수</th>\n",
       "      <th>위도</th>\n",
       "      <th>경도</th>\n",
       "    </tr>\n",
       "  </thead>\n",
       "  <tbody>\n",
       "    <tr>\n",
       "      <th>0</th>\n",
       "      <td>서울경기</td>\n",
       "      <td>화성</td>\n",
       "      <td>서해안선</td>\n",
       "      <td>310~315</td>\n",
       "      <td>목포</td>\n",
       "      <td>310</td>\n",
       "      <td>3</td>\n",
       "      <td>37.217471</td>\n",
       "      <td>126.871994</td>\n",
       "    </tr>\n",
       "    <tr>\n",
       "      <th>1</th>\n",
       "      <td>서울경기</td>\n",
       "      <td>화성</td>\n",
       "      <td>서해안선</td>\n",
       "      <td>310~315</td>\n",
       "      <td>서울</td>\n",
       "      <td>310</td>\n",
       "      <td>3</td>\n",
       "      <td>37.217471</td>\n",
       "      <td>126.871994</td>\n",
       "    </tr>\n",
       "    <tr>\n",
       "      <th>2</th>\n",
       "      <td>서울경기</td>\n",
       "      <td>시흥</td>\n",
       "      <td>수도권제1순환선</td>\n",
       "      <td>100~105</td>\n",
       "      <td>판교</td>\n",
       "      <td>100</td>\n",
       "      <td>4</td>\n",
       "      <td>37.419086</td>\n",
       "      <td>126.828963</td>\n",
       "    </tr>\n",
       "    <tr>\n",
       "      <th>3</th>\n",
       "      <td>서울경기</td>\n",
       "      <td>경기광주</td>\n",
       "      <td>중부선</td>\n",
       "      <td>325~330</td>\n",
       "      <td>통영</td>\n",
       "      <td>325</td>\n",
       "      <td>6</td>\n",
       "      <td>37.248957</td>\n",
       "      <td>127.421370</td>\n",
       "    </tr>\n",
       "    <tr>\n",
       "      <th>4</th>\n",
       "      <td>서울경기</td>\n",
       "      <td>경기광주</td>\n",
       "      <td>중부선</td>\n",
       "      <td>325~330</td>\n",
       "      <td>하남</td>\n",
       "      <td>325</td>\n",
       "      <td>3</td>\n",
       "      <td>37.248957</td>\n",
       "      <td>127.421370</td>\n",
       "    </tr>\n",
       "    <tr>\n",
       "      <th>5</th>\n",
       "      <td>서울경기</td>\n",
       "      <td>경기광주</td>\n",
       "      <td>중부선</td>\n",
       "      <td>345~350</td>\n",
       "      <td>통영</td>\n",
       "      <td>345</td>\n",
       "      <td>3</td>\n",
       "      <td>37.397767</td>\n",
       "      <td>127.310793</td>\n",
       "    </tr>\n",
       "    <tr>\n",
       "      <th>6</th>\n",
       "      <td>서울경기</td>\n",
       "      <td>경기광주</td>\n",
       "      <td>중부선</td>\n",
       "      <td>320~325</td>\n",
       "      <td>통영</td>\n",
       "      <td>320</td>\n",
       "      <td>3</td>\n",
       "      <td>37.207765</td>\n",
       "      <td>127.442214</td>\n",
       "    </tr>\n",
       "  </tbody>\n",
       "</table>\n",
       "</div>"
      ],
      "text/plain": [
       "    본부명   지사명       노선명         구간  방향  5km  발생건수         위도          경도\n",
       "0  서울경기    화성      서해안선    310~315  목포  310     3  37.217471  126.871994\n",
       "1  서울경기    화성      서해안선    310~315  서울  310     3  37.217471  126.871994\n",
       "2  서울경기    시흥  수도권제1순환선    100~105  판교  100     4  37.419086  126.828963\n",
       "3  서울경기  경기광주       중부선    325~330  통영  325     6  37.248957  127.421370\n",
       "4  서울경기  경기광주       중부선    325~330  하남  325     3  37.248957  127.421370\n",
       "5  서울경기  경기광주       중부선    345~350  통영  345     3  37.397767  127.310793\n",
       "6  서울경기  경기광주       중부선   320~325   통영  320     3  37.207765  127.442214"
      ]
     },
     "metadata": {},
     "output_type": "display_data"
    },
    {
     "name": "stdout",
     "output_type": "stream",
     "text": [
      "========================= 서울경기 본부 지사별 발생건수 합계 (내림차순) =========================\n"
     ]
    },
    {
     "data": {
      "text/html": [
       "<div>\n",
       "<style scoped>\n",
       "    .dataframe tbody tr th:only-of-type {\n",
       "        vertical-align: middle;\n",
       "    }\n",
       "\n",
       "    .dataframe tbody tr th {\n",
       "        vertical-align: top;\n",
       "    }\n",
       "\n",
       "    .dataframe thead th {\n",
       "        text-align: right;\n",
       "    }\n",
       "</style>\n",
       "<table border=\"1\" class=\"dataframe\">\n",
       "  <thead>\n",
       "    <tr style=\"text-align: right;\">\n",
       "      <th></th>\n",
       "      <th>지사명</th>\n",
       "      <th>위도</th>\n",
       "      <th>경도</th>\n",
       "      <th>발생건수</th>\n",
       "    </tr>\n",
       "  </thead>\n",
       "  <tbody>\n",
       "    <tr>\n",
       "      <th>1</th>\n",
       "      <td>경기광주</td>\n",
       "      <td>37.248957</td>\n",
       "      <td>127.421370</td>\n",
       "      <td>9</td>\n",
       "    </tr>\n",
       "    <tr>\n",
       "      <th>4</th>\n",
       "      <td>화성</td>\n",
       "      <td>37.217471</td>\n",
       "      <td>126.871994</td>\n",
       "      <td>6</td>\n",
       "    </tr>\n",
       "    <tr>\n",
       "      <th>3</th>\n",
       "      <td>시흥</td>\n",
       "      <td>37.419086</td>\n",
       "      <td>126.828963</td>\n",
       "      <td>4</td>\n",
       "    </tr>\n",
       "    <tr>\n",
       "      <th>0</th>\n",
       "      <td>경기광주</td>\n",
       "      <td>37.207765</td>\n",
       "      <td>127.442214</td>\n",
       "      <td>3</td>\n",
       "    </tr>\n",
       "    <tr>\n",
       "      <th>2</th>\n",
       "      <td>경기광주</td>\n",
       "      <td>37.397767</td>\n",
       "      <td>127.310793</td>\n",
       "      <td>3</td>\n",
       "    </tr>\n",
       "  </tbody>\n",
       "</table>\n",
       "</div>"
      ],
      "text/plain": [
       "    지사명         위도          경도  발생건수\n",
       "1  경기광주  37.248957  127.421370     9\n",
       "4    화성  37.217471  126.871994     6\n",
       "3    시흥  37.419086  126.828963     4\n",
       "0  경기광주  37.207765  127.442214     3\n",
       "2  경기광주  37.397767  127.310793     3"
      ]
     },
     "metadata": {},
     "output_type": "display_data"
    },
    {
     "name": "stdout",
     "output_type": "stream",
     "text": [
      "\n",
      "가장 많은 발생건수 지사: 경기광주 (9건)\n",
      "========================= Folium Map을 통해 시각화한 결과입니다. =========================\n"
     ]
    },
    {
     "data": {
      "text/html": [
       "<div style=\"width:100%;\"><div style=\"position:relative;width:100%;height:0;padding-bottom:60%;\"><span style=\"color:#565656\">Make this Notebook Trusted to load map: File -> Trust Notebook</span><iframe srcdoc=\"&lt;!DOCTYPE html&gt;\n",
       "&lt;html&gt;\n",
       "&lt;head&gt;\n",
       "    \n",
       "    &lt;meta http-equiv=&quot;content-type&quot; content=&quot;text/html; charset=UTF-8&quot; /&gt;\n",
       "    &lt;script src=&quot;https://cdn.jsdelivr.net/npm/leaflet@1.9.3/dist/leaflet.js&quot;&gt;&lt;/script&gt;\n",
       "    &lt;script src=&quot;https://code.jquery.com/jquery-3.7.1.min.js&quot;&gt;&lt;/script&gt;\n",
       "    &lt;script src=&quot;https://cdn.jsdelivr.net/npm/bootstrap@5.2.2/dist/js/bootstrap.bundle.min.js&quot;&gt;&lt;/script&gt;\n",
       "    &lt;script src=&quot;https://cdnjs.cloudflare.com/ajax/libs/Leaflet.awesome-markers/2.0.2/leaflet.awesome-markers.js&quot;&gt;&lt;/script&gt;\n",
       "    &lt;link rel=&quot;stylesheet&quot; href=&quot;https://cdn.jsdelivr.net/npm/leaflet@1.9.3/dist/leaflet.css&quot;/&gt;\n",
       "    &lt;link rel=&quot;stylesheet&quot; href=&quot;https://cdn.jsdelivr.net/npm/bootstrap@5.2.2/dist/css/bootstrap.min.css&quot;/&gt;\n",
       "    &lt;link rel=&quot;stylesheet&quot; href=&quot;https://netdna.bootstrapcdn.com/bootstrap/3.0.0/css/bootstrap-glyphicons.css&quot;/&gt;\n",
       "    &lt;link rel=&quot;stylesheet&quot; href=&quot;https://cdn.jsdelivr.net/npm/@fortawesome/fontawesome-free@6.2.0/css/all.min.css&quot;/&gt;\n",
       "    &lt;link rel=&quot;stylesheet&quot; href=&quot;https://cdnjs.cloudflare.com/ajax/libs/Leaflet.awesome-markers/2.0.2/leaflet.awesome-markers.css&quot;/&gt;\n",
       "    &lt;link rel=&quot;stylesheet&quot; href=&quot;https://cdn.jsdelivr.net/gh/python-visualization/folium/folium/templates/leaflet.awesome.rotate.min.css&quot;/&gt;\n",
       "    \n",
       "            &lt;meta name=&quot;viewport&quot; content=&quot;width=device-width,\n",
       "                initial-scale=1.0, maximum-scale=1.0, user-scalable=no&quot; /&gt;\n",
       "            &lt;style&gt;\n",
       "                #map_4a22b946e15441c81cc39d4bafecc4d0 {\n",
       "                    position: relative;\n",
       "                    width: 100.0%;\n",
       "                    height: 100.0%;\n",
       "                    left: 0.0%;\n",
       "                    top: 0.0%;\n",
       "                }\n",
       "                .leaflet-container { font-size: 1rem; }\n",
       "            &lt;/style&gt;\n",
       "\n",
       "            &lt;style&gt;html, body {\n",
       "                width: 100%;\n",
       "                height: 100%;\n",
       "                margin: 0;\n",
       "                padding: 0;\n",
       "            }\n",
       "            &lt;/style&gt;\n",
       "\n",
       "            &lt;style&gt;#map {\n",
       "                position:absolute;\n",
       "                top:0;\n",
       "                bottom:0;\n",
       "                right:0;\n",
       "                left:0;\n",
       "                }\n",
       "            &lt;/style&gt;\n",
       "\n",
       "            &lt;script&gt;\n",
       "                L_NO_TOUCH = false;\n",
       "                L_DISABLE_3D = false;\n",
       "            &lt;/script&gt;\n",
       "\n",
       "        \n",
       "&lt;/head&gt;\n",
       "&lt;body&gt;\n",
       "    \n",
       "    \n",
       "            &lt;div class=&quot;folium-map&quot; id=&quot;map_4a22b946e15441c81cc39d4bafecc4d0&quot; &gt;&lt;/div&gt;\n",
       "        \n",
       "&lt;/body&gt;\n",
       "&lt;script&gt;\n",
       "    \n",
       "    \n",
       "            var map_4a22b946e15441c81cc39d4bafecc4d0 = L.map(\n",
       "                &quot;map_4a22b946e15441c81cc39d4bafecc4d0&quot;,\n",
       "                {\n",
       "                    center: [37.24895724, 127.4213702],\n",
       "                    crs: L.CRS.EPSG3857,\n",
       "                    ...{\n",
       "  &quot;zoom&quot;: 11,\n",
       "  &quot;zoomControl&quot;: true,\n",
       "  &quot;preferCanvas&quot;: false,\n",
       "}\n",
       "\n",
       "                }\n",
       "            );\n",
       "\n",
       "            \n",
       "\n",
       "        \n",
       "    \n",
       "            var tile_layer_7e26f280653f3ed49c2f9b11e39921ae = L.tileLayer(\n",
       "                &quot;https://tile.openstreetmap.org/{z}/{x}/{y}.png&quot;,\n",
       "                {\n",
       "  &quot;minZoom&quot;: 0,\n",
       "  &quot;maxZoom&quot;: 19,\n",
       "  &quot;maxNativeZoom&quot;: 19,\n",
       "  &quot;noWrap&quot;: false,\n",
       "  &quot;attribution&quot;: &quot;\\u0026copy; \\u003ca href=\\&quot;https://www.openstreetmap.org/copyright\\&quot;\\u003eOpenStreetMap\\u003c/a\\u003e contributors&quot;,\n",
       "  &quot;subdomains&quot;: &quot;abc&quot;,\n",
       "  &quot;detectRetina&quot;: false,\n",
       "  &quot;tms&quot;: false,\n",
       "  &quot;opacity&quot;: 1,\n",
       "}\n",
       "\n",
       "            );\n",
       "        \n",
       "    \n",
       "            tile_layer_7e26f280653f3ed49c2f9b11e39921ae.addTo(map_4a22b946e15441c81cc39d4bafecc4d0);\n",
       "        \n",
       "    \n",
       "            var marker_16122c7ff6f1d4d2aa9e971f55c0a321 = L.marker(\n",
       "                [37.24895724, 127.4213702],\n",
       "                {\n",
       "}\n",
       "            ).addTo(map_4a22b946e15441c81cc39d4bafecc4d0);\n",
       "        \n",
       "    \n",
       "        var popup_6d34b4ad0275e816e09e542a1f07a21a = L.popup({\n",
       "  &quot;maxWidth&quot;: &quot;100%&quot;,\n",
       "});\n",
       "\n",
       "        \n",
       "            \n",
       "                var html_972d0e84c0ec15f058a60c9058a38041 = $(`&lt;div id=&quot;html_972d0e84c0ec15f058a60c9058a38041&quot; style=&quot;width: 100.0%; height: 100.0%;&quot;&gt;경기광주 지사 발생건수: 9&lt;/div&gt;`)[0];\n",
       "                popup_6d34b4ad0275e816e09e542a1f07a21a.setContent(html_972d0e84c0ec15f058a60c9058a38041);\n",
       "            \n",
       "        \n",
       "\n",
       "        marker_16122c7ff6f1d4d2aa9e971f55c0a321.bindPopup(popup_6d34b4ad0275e816e09e542a1f07a21a)\n",
       "        ;\n",
       "\n",
       "        \n",
       "    \n",
       "    \n",
       "            marker_16122c7ff6f1d4d2aa9e971f55c0a321.bindTooltip(\n",
       "                `&lt;div&gt;\n",
       "                     발생건수 최다 지사\n",
       "                 &lt;/div&gt;`,\n",
       "                {\n",
       "  &quot;sticky&quot;: true,\n",
       "}\n",
       "            );\n",
       "        \n",
       "&lt;/script&gt;\n",
       "&lt;/html&gt;\" style=\"position:absolute;width:100%;height:100%;left:0;top:0;border:none !important;\" allowfullscreen webkitallowfullscreen mozallowfullscreen></iframe></div></div>"
      ],
      "text/plain": [
       "<folium.folium.Map at 0x2a2c6592fd0>"
      ]
     },
     "metadata": {},
     "output_type": "display_data"
    }
   ],
   "source": [
    "import folium\n",
    "\n",
    "# 서울경기 본부 데이터만 선택\n",
    "seoul = df[df['본부명'] == '서울경기'].copy()\n",
    "\n",
    "print('='*25, '본부명 중에서 \"서울경기\"만 선택한 결과입니다.', '='*25)\n",
    "display(seoul)\n",
    "\n",
    "# 지사별 발생건수 합계 기준 내림차순 정렬\n",
    "agg = (seoul.groupby(['지사명', '위도', '경도'], as_index=False)['발생건수']\n",
    "             .sum()\n",
    "             .sort_values('발생건수', ascending=False))\n",
    "\n",
    "print('='*25, '서울경기 본부 지사별 발생건수 합계 (내림차순)', '='*25)\n",
    "display(agg)\n",
    "\n",
    "# 가장 많이 발생한 지사 (상단 1개)\n",
    "top_branch = agg.iloc[0]\n",
    "print(f\"\\n가장 많은 발생건수 지사: {top_branch['지사명']} ({top_branch['발생건수']}건)\")\n",
    "\n",
    "# Folium 지도 시각화\n",
    "m = folium.Map(location=[top_branch['위도'], top_branch['경도']], zoom_start=11)\n",
    "folium.Marker(\n",
    "    location=[top_branch['위도'], top_branch['경도']],\n",
    "    popup=f\"{top_branch['지사명']} 지사\\n발생건수: {top_branch['발생건수']}\",\n",
    "    tooltip=\"발생건수 최다 지사\"\n",
    ").add_to(m)\n",
    "\n",
    "print('='*25, 'Folium Map을 통해 시각화한 결과입니다.', '='*25)\n",
    "display(m)\n"
   ]
  }
 ],
 "metadata": {
  "kernelspec": {
   "display_name": "myenv",
   "language": "python",
   "name": "python3"
  },
  "language_info": {
   "codemirror_mode": {
    "name": "ipython",
    "version": 3
   },
   "file_extension": ".py",
   "mimetype": "text/x-python",
   "name": "python",
   "nbconvert_exporter": "python",
   "pygments_lexer": "ipython3",
   "version": "3.11.13"
  }
 },
 "nbformat": 4,
 "nbformat_minor": 5
}
